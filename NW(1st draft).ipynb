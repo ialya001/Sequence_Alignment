{
 "cells": [
  {
   "cell_type": "code",
   "execution_count": null,
   "id": "50afffe7",
   "metadata": {},
   "outputs": [],
   "source": [
    "#https://github.com/scastlara/minineedle"
   ]
  },
  {
   "cell_type": "markdown",
   "id": "c26e7898",
   "metadata": {},
   "source": [
    "## This is 1st darft a script using Needleman-Wunsch Algorithm with the help of minineedle library"
   ]
  },
  {
   "cell_type": "code",
   "execution_count": 290,
   "id": "e4c22504",
   "metadata": {},
   "outputs": [],
   "source": [
    "from minineedle import needle, smith, core\n",
    "import glob\n",
    "\n",
    "#Load text files that has two stories as txt file\n",
    "file_names_C=glob.glob(\"/Users/ibrahim/Desktop/Friday/1vs1/*.txt\")\n",
    "file_names_C\n",
    "\n",
    "\n",
    "raw_documents_C=[]\n",
    "for file in file_names_C:\n",
    "    try:\n",
    "        with open(file, \"r\", encoding=\"utf-8\") as f: raw_documents_C.append(f.read())\n",
    "    except:\n",
    "        pass\n",
    "#The \n",
    "seq1 = raw_documents_C[0]#The first story \n",
    "seq2 = raw_documents_C[1]#The second story \n",
    "\n",
    "# Create the instance\n",
    "alignment = needle.NeedlemanWunsch(seq1, seq2)\n",
    "alignment.change_matrix(core.ScoreMatrix(match=1, miss=-1, gap=0))\n",
    "\n",
    "# Make the alignment\n",
    "alignment.align()\n",
    "\n"
   ]
  },
  {
   "cell_type": "markdown",
   "id": "55047bea",
   "metadata": {},
   "source": [
    "### Print the alignment "
   ]
  },
  {
   "cell_type": "code",
   "execution_count": 291,
   "id": "762ff20a",
   "metadata": {},
   "outputs": [
    {
     "name": "stdout",
     "output_type": "stream",
     "text": [
      "Alignment of SEQUENCE 1 and SEQUENCE 2:\n",
      "\tSHAHRAZAD SAID:\n",
      "\n",
      "I have heard, O fortunate king, that a wealthy merchant, who had many dealings throughout the lands, rode out one day to settle a matter of business in one of them. When it became hot, he sat down under a tree and put his hand in his saddlebag, from which he took out a piece of bread and a date. He ate and when he had finished with the date he threw away its stone, at which a huge ‘ifrit appeared, with a drawn sword in his hand. This ‘ifrit came up to the merchant and said: ‘Get up so that I can kill you as you killed my son.’ ‘How did I kill your son?’ asked the merchant, and the ‘ifrit told him: ‘When you ate that date and threw away the stone, it struck my son in the chest as he was walking, and he died instantly.’ ‘We belong to God and to Him do we return,’ recited the merchant, adding: ‘There is no might and no power except with God, the Exalted, the Omnipotent. If I killed him, this was by accident, so please forgive me.’ ‘I must kill you,’ insisted the ‘ifrit, and he dragged off the merchant, threw him down on the ground and raised his sword to strike.\n",
      "\n",
      "With tears in his eyes, the merchant exclaimed: ‘I entrust my affair to God!’ and he then recited these lines:\n",
      "\n",
      "Time is two days, one safe and one of peril,\n",
      "\n",
      "And our lives are of two halves, one fair, one overcast.\n",
      "\n",
      "Say to those who reproach us for what Time has done:\n",
      "\n",
      "‘Does Time oppose any but great men?’\n",
      "\n",
      "Do you not see that when the storm winds blow,\n",
      "\n",
      "It is the tall trees that they strike?\n",
      "\n",
      "Corpses rise to the surface of the sea,\n",
      "\n",
      "While it is in its depths that pearls lie hid.\n",
      "\n",
      "It may be that Time will mishandle us,\n",
      "\n",
      "Subjecting us to constant harm.\n",
      "\n",
      "Though in the heavens there are countless stars,\n",
      "\n",
      "Only the sun and moon suffer eclipse.\n",
      "\n",
      "There are both green and dry boughs on the earth,\n",
      "\n",
      "But we throw stones only at those with fruit.\n",
      "\n",
      "You think well of the days when they are fine,\n",
      "\n",
      "So do not fear the evil that fate brings.\n",
      "\n",
      "\n",
      "\n",
      "When he had finished, the ‘ifrit said: ‘Stop talking, for, by God, I am most certainly going to kill you.’ ‘‘Ifrit,’ the merchant said, ‘I am a wealthy man, with a wife and children; I have debts and I hold deposits, so let me go home and give everyone their due before returning to you at the start of the new year. I shall take a solemn oath and swear by God that I shall come back to you and you can then do what you want with me. God will be the guarantor of this.’ The ‘ifrit trusted him and let him go, after which he went home, settled all his affairs, and gave everyone what was owed them. He told his wife and children what had happened, gave them his injunctions and stayed with them until the end of the year, when he got up, performed the ritual ablution and, with his shroud under his arm, said goodbye to his family and all his relations as well as his neighbours, and set off reluctantly, while they all wept and wailed. He came to the orchard on what was New Year’s Day, and as he sat there weeping over his fate, a very old man approached him, leading a gazelle on a chain. The newcomer greeted him and asked him why he was sitting there alone, when the place was a haunt of jinn. The merchant told the story of his encounter with the ‘ifrit, and the old man exclaimed: ‘By God, brother, you are a very pious man and your story is so wonderful that were it written with needles on the corners of men’s eyes, it would be a lesson for those who take heed.’\n",
      "\n",
      "He took his seat by the merchant’s side and promised not to leave until he had seen what happened to him with the ‘ifrit. As the two of them sat there talking, the merchant was overcome by an access of fear together with ever-increasing distress and apprehension. It was at this point that a second old man arrived, having with him two black Salukis. After greeting the two men, he asked them why they were sitting in this haunt of jinn and they told him the story from beginning to end. No sooner had he sat down with them than a third old man, with a dappled mule, came up, greeted them and asked why they were there, at which they repeated the whole story – but there is no point in going over it again.\n",
      "\n",
      "As soon as the newcomer had sat down, a huge dust-devil appeared in the middle of the desert, clearing away to show the ‘ifrit with a drawn sword in his hand and sparks shooting from his eyes. He came up to the three, dragged the merchant from between them and said: ‘Get up so that I can kill you as you killed my beloved son.’ The merchant sobbed and wept, while the three old men shed tears, wailed and lamented. Then the first of them, the man with the gazelle, left the others, kissed the ‘ifrit’s hand and said: ‘Jinni, royal crown of the jinn, if I tell you the story of my connection with this gazelle, will you grant me a third share in this merchant’s blood?’ The ‘ifrit agreed to do this if he found the story marvellous, AND SO THE OLD MAN BEGAN HIS TALE:\n",
      "\n",
      "Know, ‘ifrit, that this gazelle is my cousin, my own flesh and blood. I married her when she was still young and stayed with her for thirty years without her bearing me a child. So I took a concubine and she bore me a son, the perfection of whose eyes and eyebrows made him look like the full moon when it appears. He grew up and when he was fifteen I had occasion to travel to a certain city, taking with me a great quantity of trade goods. My wife, now this gazelle, had studied sorcery since her youth and she turned the boy into a calf and his mother into a cow, handing them over to the herdsman. When, after a long absence, I got back from my journey, I asked about the two of them and my wife told me that the woman had died and that the boy had run away, where she did not know.\n",
      "\n",
      "For a year I remained sad at heart and tearful until ‘Id al-Adha came round and I sent to tell the herdsman to bring me a fat cow. What he brought me was my slave girl whom my wife had enchanted. I tucked up my clothes, took the knife in my hand and was about to slaughter her, when she gave a cry, howled and shed tears. This astonished me and, feeling pity for her, I left her and told the herdsman to fetch me another. At that my wife called out: ‘Kill this one, as I have no finer or fatter cow.’ I went up again to do the killing and again the cow gave a cry, at which I told the herdsman to slaughter her and then skin her. He did this, only to discover that there was neither flesh nor fat in the carcass, but only skin and bone. I was sorry for what I had done at a time when regret was of no use, and I gave the cow to the herdsman, telling him to bring me a fat calf. He brought me my son, and when this ‘calf ’ caught sight of me, he broke his tether and rolled in the dust in front of me, howling and shedding tears. Again I felt pity and told the herdsman to leave the calf and fetch me a cow, and again my wife, now this gazelle, called to me, insisting that I must slaughter the calf that day. ‘This is a noble and a blessed day,’ she pointed out. ‘The sacrifice must be a good one and we have nothing fatter or finer than this calf.’ ‘Look at what happened with the cow that you told me to kill. This led to a disappointment and we got no good from it at all, leaving me full of regret at having slaughtered it. This time I am not going to do what you say or kill this calf.’ ‘By God the Omnipotent, the Compassionate, the Merciful, you must do this on this noble day, and if you don’t, then you are not my husband and I am not your wife.’ On hearing these harsh words, but not realizing what she intended to do, I went up to the calf with the knife in my hand.\n",
      "\n",
      "Morning now dawned and Shahrazad broke off from what she had been allowed to say. ‘What a good, pleasant, delightful and sweet story this is!’ exclaimed Dunyazad, at which Shahrazad told her: ‘How can this compare with what I shall tell you this coming night, if I am still alive and the king spares me?’ ‘By God,’ the king said to himself, ‘I am not going to kill her until I hear the rest of the story,’ and so they spent the rest of the time embracing one another until the sun had fully risen. The king then went to his court as the vizier came with the shroud under his arm, and he gave his judgements, appointing some officials and dismissing others, until evening, but to the vizier’s great surprise he gave no instructions about his daughter. The court was then dismissed and King Shahriyar returned to his palace.\n",
      "\tSHAHRAZAD SAID:\n",
      "\n",
      "I have heard, O fortunate king, that a wealthy merchant, who had many dealings throughout the lands, rode out one day to settle a matter of business in one of them. When it became hot, he sat down under a tree and put his hand in his saddlebag, from which he took out a piece of bread and a date. He ate and when he had finished with the date he threw away its stone, at which a huge ‘ifrit appeared, with a drawn sword in his hand. This ‘ifrit came up to the merchant and said: ‘Get up so that I can kill you as you killed my son.’ ‘How did I kill your son?’ asked the merchant, and the ‘ifrit told him: ‘When you ate that date and threw away the stone, it struck my son in the chest as he was walking, and he died instantly.’ ‘We belong to God and to Him do we return,’ recited the merchant, adding: ‘There is no might and no power except with God, the Exalted, the Omnipotent. If I killed him, this was by accident, so please forgive me.’ ‘I must kill you,’ insisted the ‘ifrit, and he dragged off the merchant, threw him down on the ground and raised his sword to strike.\n",
      "\n",
      "With tears in his eyes, the merchant exclaimed: ‘I entrust my affair to God!’ and he then recited these lines:\n",
      "\n",
      "Time is two days, one safe and one of peril,\n",
      "\n",
      "And our lives are of two halves, one fair, one overcast.\n",
      "\n",
      "Say to those who reproach us for what Time has done:\n",
      "\n",
      "‘Does Time oppose any but great men?’\n",
      "\n",
      "Do you not see that when the storm winds blow,\n",
      "\n",
      "It is the tall trees that they strike?\n",
      "\n",
      "Corpses rise to the surface of the sea,\n",
      "\n",
      "While it is in its depths that pearls lie hid.\n",
      "\n",
      "It may be that Time will mishandle us,\n",
      "\n",
      "Subjecting us to constant harm.\n",
      "\n",
      "Though in the heavens there are countless stars,\n",
      "\n",
      "Only the sun and moon suffer eclipse.\n",
      "\n",
      "There are both green and dry boughs on the earth,\n",
      "\n",
      "But we throw stones only at those with fruit.\n",
      "\n",
      "You think well of the days when they are fine,\n",
      "\n",
      "So do not fear the evil that fate brings.\n",
      "\n",
      "\n",
      "\n",
      "When he had finished, the ‘ifrit said: ‘Stop talking, for, by God, I am most certainly going to kill you.’ ‘‘Ifrit,’ the merchant said, ‘I am a wealthy man, with a wife and children; I have debts and I hold deposits, so let me go home and give everyone their due before returning to you at the start of the new year. I shall take a solemn oath and swear by God that I shall come back to you and you can then do what you want with me. God will be the guarantor of this.’ The ‘ifrit trusted him and let him go, after which he went home, settled all his affairs, and gave everyone what was owed them. He told his wife and children what had happened, gave them his injunctions and stayed with them until the end of the year, when he got up, performed the ritual ablution and, with his shroud under his arm, said goodbye to his family and all his relations as well as his neighbours, and set off reluctantly, while they all wept and wailed. He came to the orchard on what was New Year’s Day, and as he sat there weeping over his fate, a very old man approached him, leading a gazelle on a chain. The newcomer greeted him and asked him why he was sitting there alone, when the place was a haunt of jinn. The merchant told the story of his encounter with the ‘ifrit, and the old man exclaimed: ‘By God, brother, you are a very pious man and your story is so wonderful that were it written with needles on the corners of men’s eyes, it would be a lesson for those who take heed.’\n",
      "\n",
      "He took his seat by the merchant’s side and promised not to leave until he had seen what happened to him with the ‘ifrit. As the two of them sat there talking, the merchant was overcome by an access of fear together with ever-increasing distress and apprehension. It was at this point that a second old man arrived, having with him two black Salukis. After greeting the two men, he asked them why they were sitting in this haunt of jinn and they told him the story from beginning to end. No sooner had he sat down with them than a third old man, with a dappled mule, came up, greeted them and asked why they were there, at which they repeated the whole story – but there is no point in going over it again.\n",
      "\n",
      "As soon as the newcomer had sat down, a huge dust-devil appeared in the middle of the desert, clearing away to show the ‘ifrit with a drawn sword in his hand and sparks shooting from his eyes. He came up to the three, dragged the merchant from between them and said: ‘Get up so that I can kill you as you killed my beloved son.’ The merchant sobbed and wept, while the three old men shed tears, wailed and lamented. Then the first of them, the man with the gazelle, left the others, kissed the ‘ifrit’s hand and said: ‘Jinni, royal crown of the jinn, if I tell you the story of my connection with this gazelle, will you grant me a third share in this merchant’s blood?’ The ‘ifrit agreed to do this if he found the story marvellous, AND SO THE OLD MAN BEGAN HIS TALE:\n",
      "\n",
      "Know, ‘ifrit, that this gazelle is my cousin, my own flesh and blood. I married her when she was still young and stayed with her for thirty years without her bearing me a child. So I took a concubine and she bore me a son, the perfection of whose eyes and eyebrows made him look like the full moon when it appears. He grew up and when he was fifteen I had occasion to travel to a certain city, taking with me a great quantity of trade goods. My wife, now this gazelle, had studied sorcery since her youth and she turned the boy into a calf and his mother into a cow, handing them over to the herdsman. When, after a long absence, I got back from my journey, I asked about the two of them and my wife told me that the woman had died and that the boy had run away, where she did not know.\n",
      "\n",
      "For a year I remained sad at heart and tearful until ‘Id al-Adha came round and I sent to tell the herdsman to bring me a fat cow. What he brought me was my slave girl whom my wife had enchanted. I tucked up my clothes, took the knife in my hand and was about to slaughter her, when she gave a cry, howled and shed tears. This astonished me and, feeling pity for her, I left her and told the herdsman to fetch me another. At that my wife called out: ‘Kill this one, as I have no finer or fatter cow.’ I went up again to do the killing and again the cow gave a cry, at which I told the herdsman to slaughter her and then skin her. He did this, only to discover that there was neither flesh nor fat in the carcass, but only skin and bone. I was sorry for what I had done at a time when regret was of no use, and I gave the cow to the herdsman, telling him to bring me a fat calf. He brought me my son, and when this ‘calf ’ caught sight of me, he broke his tether and rolled in the dust in front of me, howling and shedding tears. Again I felt pity and told the herdsman to leave the calf and fetch me a cow, and again my wife, now this gazelle, called to me, insisting that I must slaughter the calf that day. ‘This is a noble and a blessed day,’ she pointed out. ‘The sacrifice must be a good one and we have nothing fatter or finer than this calf.’ ‘Look at what happened with the cow that you told me to kill. This led to a disappointment and we got no good from it at all, leaving me full of regret at having slaughtered it. This time I am not going to do what you say or kill this calf.’ ‘By God the Omnipotent, the Compassionate, the Merciful, you must do this on this noble day, and if you don’t, then you are not my husband and I am not your wife.’ On hearing these harsh words, but not realizing what she intended to do, I went up to the calf with the knife in my hand.\n",
      "\n",
      "Morning now dawned and Shahrazad broke off from what she had been allowed to say. ‘What a good, pleasant, delightful and sweet story this is!’ exclaimed Dunyazad, at which Shahrazad told her: ‘How can this compare with what I shall tell you this coming night, if I am still alive and the king spares me?’ ‘By God,’ the king said to himself, ‘I am not going to kill her until I hear the rest of the story,’ and so they spent the rest of the time embracing one another until the sun had fully risen. The king then went to his court as the vizier came with the shroud under his arm, and he gave his judgements, appointing some officials and dismissing others, until evening, but to the vizier’s great surprise he gave no instructions about his daughter. The court was then dismissed and King Shahriyar returned to his palace.\n",
      "\n"
     ]
    }
   ],
   "source": [
    "print(alignment)"
   ]
  },
  {
   "cell_type": "markdown",
   "id": "13188cf9",
   "metadata": {},
   "source": [
    "### Print the identity of alignment(%)"
   ]
  },
  {
   "cell_type": "code",
   "execution_count": 292,
   "id": "0ea39236",
   "metadata": {},
   "outputs": [
    {
     "name": "stdout",
     "output_type": "stream",
     "text": [
      "100.0\n"
     ]
    }
   ],
   "source": [
    "print(alignment.get_identity())"
   ]
  },
  {
   "cell_type": "markdown",
   "id": "a660cb49",
   "metadata": {},
   "source": [
    "### Get the score"
   ]
  },
  {
   "cell_type": "code",
   "execution_count": 293,
   "id": "3deb5e6d",
   "metadata": {},
   "outputs": [
    {
     "data": {
      "text/plain": [
       "8372"
      ]
     },
     "execution_count": 293,
     "metadata": {},
     "output_type": "execute_result"
    }
   ],
   "source": [
    "alignment.get_score()"
   ]
  },
  {
   "cell_type": "markdown",
   "id": "d2b7cd60",
   "metadata": {},
   "source": [
    "### Another library called Bio ( to see the differences between these libraries)"
   ]
  },
  {
   "cell_type": "code",
   "execution_count": 294,
   "id": "5c148dd5",
   "metadata": {},
   "outputs": [],
   "source": [
    "from Bio import pairwise2\n",
    "alignments = pairwise2.align.globalxx(raw_documents[0],raw_documents[1])"
   ]
  },
  {
   "cell_type": "code",
   "execution_count": 295,
   "id": "e5fdaee5",
   "metadata": {},
   "outputs": [
    {
     "name": "stdout",
     "output_type": "stream",
     "text": [
      "Then, when it was the six----th night, -her sis---t---e--------------r-, D---u-----------nyaz-----ad-, -----t----------old--- -he---r- to--------- fi------n--is-h the- story--- and S-h----------------a---h-------------------------------------------r-------a---------z-----------a-d said: ‘If---- -------the king perm--it-----s- ---------------m---e-----.’ ‘G-o ---------o-------n,’- ---------h-----e ---r---e-pl-ied, AND SHE CONTINUED:\n",
      "\n",
      "I---- -have- he--ard, O---- fort--------------u----------------------n---------a---t-e king, -----t--hat the fisherman -------t--o--------ld the- ‘if-rit:-- ‘Had------ y-ou- --spared- m---e, I--- would -have spar----e------d--- y-ou, but-- y-ou-- wan-t-----e------d- ----n----o-thi--ng- b--u--t my--- d--------e--at------h- a--nd- so------ now--- I-- am-- goi--ng t-o-- ---d-e-------s----t-roy you----- by-- th-rowing-- y-ou -----i------n--to-- the--- s----e-a-- ------her-e, -i------m--pri-so-n-ed-- -----in---- th-i---s -------------b-ot---tle.’ T-he ‘i----------f--r-------i---t-- cr-i-----ed o-ut: ‘I--- impl---or-e- you,--- -in-- Go--d’s Nam---e,- fis-herma--n,-- d--------o-n’t ------d----o- this!- Sp-are-- m--------e- and don’-t p--------------------------------un--ish- m------e f--------or w----h---at-- I-- di--d. If- I--- t------------reated- y-ou-- ba-dly, -------d----------o---- y-ou---- -------fo------r- your part--- t-----r--------e-a-t-- m--e well,---- -a-s-- the-- p-------rov----erb s-ays-------------: “-You--- -----who- do---- go-od to-- th---e--------- evil-d-o---e--r-, know- tha--t-------- wh----------a-t-- -he- has- don--e------ is- p--un------------------i-s-------h----------men----t- --e---nough- fo--r------ him.”- Do---- not-- do------ w-hat ‘Umam----a- ---di------d ---to ‘A---tik----a!’- ‘W-hat w----as- t-------h---------a---t?’-- ask--------ed -t--he fisherm-an,- bu----t--- the- ‘----------if------r-----------it-- --s-a------------id: ‘I---- ------------------cannot tal---k--- wh--ile I- am-- imp---risoned, b-u-t if-- y-ou-- l-e---t m------e- out, I shall- t-ell--- y-ou the ----------st--ory.’ T-he fisherman ------s--------ai-d: ‘Stop---- t----al------------king li--ke- this,- fo---r- I--- --shall c--e--rt----------ain----ly th--r-ow----- -y--ou- i---nto------ --------the --s-e--a-- -and I-- am-- -nev-er g-----o----ing to relea--s--e -------you.- I--- pl---------e--a-d----ed- ---with ---y--------ou---- --------and b--egg-----ed---- y-ou,-- bu----t--- ----al----l- y----ou- -wan-----------t-----ed to-- -------d----o------ wa--s t-o--- kill-- me, although I-- ha-d --done nothing -----at al-l-- --to- d--e---s-erve--- -t--h-is- --and, far----- ----f----rom--- doing yo-----u--- any- h--ar---m, I h-a---d -hel--------ped-- you--- by---- f--ree-ing you--- --from--- your--- pri---son. W------------hen y-ou d---i----d that-- ---t--o-- me,---- I- -re-a---l-ized- that ---you w-----e--r--e-- a--------n --evi--l-do--er-. B--e sur---e- ----------that------, when-- I------ --thr--o-----w--- ---y--ou---- ---i---n---to the ----------s--ea----, -------if- -anyone- bri-----ngs y-ou- -ou-t----, I will-- -tell- h-im-- -----------------------wha-t-- y---ou- --d------------i--------d -----to ----me-- and warn---- him,- so------ that-- -he may------ th-ro--w------ ---you b-ack- again---- a---nd there y-ou wil-l stay------- unt--il-- ---the --end of-- tim-e- or------- u-nt-----i---l- you per--i--s-h.’--- ‘Fr-e--e- me,----------’ p-----l-e---------ad--ed ----the ‘ifrit.- ‘T-----his-- i----s--- --a- tim-e- ------------for- g-e-n---er--osi---ty---------- a--nd- I---- promis---e -you that---- -I shall n---ev--er a---c-t- again---s-t ----y----ou-- again bu-t will help you by- mak-ing- you- ric-h.’\n",
      "\n",
      "A-------t ---this, ------------the-- fish----erman m-ad-e th---e-- ‘if-r--i------t- ---p--ro--------m-----i-se- that-- w--er--------e- h-------e-- f-----r-e------e---d-------------, f-----ar -----------f------rom-- -hurt-----------ing-- -h---i---s -res--cuer, -he woul--------d ---h--------------------elp- -----him---------------. W---h-----------en the-- fi--sherm------------a--n- w--------a-------s------ ----su--re- of this and---- ha-d made-- the-- ‘ifrit s-----wear-- by-- t----------he g---r---e------------a---t---es---t-- N------------------am-e------ of--- God-------, h----e-- op---e-----ned t-he- ------bo-t-----tl------------e-- and the-- sm-oke- ros---e up,-- u-n-t----il--- i--t had-- all-- ----------come ----ou-------------t -----and---- -had- for---med -----in--to a -------h---id--e----------ou---s----- -----shap--e.- T--------he ‘-ifr------------it- ---the---n- ----pick-ed t---h-----------e ----b----ot---------------tl-e --up------ and hur--l-ed it i-nt--o- the s-ea,-- convincing- the watc---h-----i-----n--g- fi---sh-erman th-at-- -he w------as- go----ing to-- b--e kill--ed.--- The--- man- so----iled his-- tr-ousers, ----cryi-ng:- ‘Th-is--- ---is- n-o--------t --a- go-od sign!’ but- then hi--s cour---ag-e- ca---------me----- b-ack -----------an------d he said: ‘G-od Almighty------- ----ha-s --s-a----i-d: “Fu-------------lfil y-----our- ----prom------------is------e,- fo-----------r-- y----our-- --pro------mis--e will-- be---- questione-------d.”* Y-------ou-- gav--e m-e-- your- w-ord, swearing th-at you- would-- not--- act-- tr-eac---her--------o--usl-y to m-e, as -o------the----rwise G------o---d wil----l-- do- the same---- t-o ----you, for H-e is------- a j-eal-ous-- Go--d Who- b--i-des His time- bu---------t---- d-----------oe---s---- ----not---- f-orget. I sa-----y- t------o you-- ---w------h---at- D-ub-----an- the wis-----e --s-----------ai-d t-o- K-----ing Yunan: “Spa--------r--e- m-e a--nd- G---od--- will--- sp-ar-e y-ou.” ’\n",
      "\n",
      "T-he ‘i-----------------fr---it- laughe-d -an---d --t-----o-ld- ---the fis--------herm-----a------n- -t--------------o- ----follow------- ----------him- as h-e---- walke-d ahead. T-his-- t----------he- fis-herm---an- d--id,-- sca---rce-ly- be---li-eving-- t----h-a-t----- he w-----------------as saf-e. T----he pai----r- of them --l--e-----------ft-------- --the c-i------t---y, cl-------imbed- a-- mount-----a--in--- -----------a--nd- ----the-----n w--e---nt-- down-- i-nt-o--- --a wid-e- pl-a-in---------------. There they saw-- a po--ol--------, and -----af------t---------er- the- ‘if----ri--t- h-----ad-- wade-d ------i-nt--o- th-e middle -of it--, he---- a---sked ---th-----e- f----------ish--erma-n to- fol--------l--ow- hi--m,-- which----- h-----------e-- d-i-d.- Whe-n- th--e ‘ifri-t-- stop--------p----ed, -he-- --------t-o----ld th----e-- fis-herman t--o cast- h---is net,- and---- --t--he ma--n- was astonished to--- s---e-e- that the pon--d con-tain--ed-- col---our-ed fis-h –-- white, re----d, -----bl-u----e --a-nd- y--ell--ow.--- H--e ------took-- -ou-t h-i-s -ne--t,-- ----c--------ast -it a--nd- ---whe-n -he d--rew-- it---- in -he fou--------nd fo-ur------ fish,- -each-- a d---ifferent--- ------col-------ou------r.------ H-e---- w----as d----el------i-gh-t-ed-- b-------------y t--hi----------s,----- a---------nd-- --t--he-- ‘if------r----it- ------s-----a--id:-- ‘Pr--e-------s-e------nt thes-------e- t-o- ---the- sult-a------n-- --a----------------nd he-- will- -e----n---r---ic--------------h-- -you. Then I a------sk------- you in God’s Name--- to- excus--e ---m----e,-- ------si--------------nc---e --a-t-- t-h--is ti----m--e -------I know-- n----o-- o--the--r---- way- -t---o-- h--elp- you. I------ -have- be---en i---n---- the- ----s-ea--- fo-r e---ig------h-tee---n -hundred years---- and- thi----s i-------s the f------irst -----t-ime-- ---------t--h-------a-t- I-- -h------------av-e- --s-----------------------e-e---n the fac-e- of--- th-e----- land.’ Af-ter--------- -----------a-dv---is------------------------------ing the fis------he-----------rm-a-n n-ot----- -----t----o-- -f-------------is--------------h--- -t-he p-o-----------o----------------l- m-------or--e--- --th-an once------ -a--- --da-y, -he--- t-------o---ok- his l--eave,- sp---e-aking word-s- of farew--ell-. Th-en he--- st-amp-ed ---------h---is-- fo-----------o--t-- --o-n- ---------t-----he --ea--------r--t-------h--- ----and- a c------r------------ac-k -appe---a----r--------e---d------ ---------in--to w-------------------h------------ic------------h -he was---- -------s-----------wa--l----l-------ow--ed------------------------------.\n",
      "\n",
      "--The f-i-----sh----------er----m-an- -re-turned t----------o- -------t---------------he-- c----ity,-- ful----l- -of won-------der-- a--t- ----------------------his -en---------c-ou-n--t---er-----------. He t------o-----------ok- ---------t--he- fis-h- ---------to-- his house-, whe-re----- ---h---e b----------r--------ou----g---------------h-t ----ou-------------------t ---a----n ea--------r---the----nwar----------e----- b-owl-, f--------------illed it-- w-ith--- w---ate-----r ------and put- t--------hem-- i-n ---i----t----------. As- ---the-y-- wrigg-----l---ed about in the wa------t-er-----, -he-- p-laced- the b----o--wl-- -on- his--- he---ad---- and went-- t-o- th--e ---palac---------e as- the ‘ifrit----- ----h-a-d t------------ol----d -----him.- W-he-----n- he cam-e -to --th-e--- ki-ng--- and--- p-re-s--------ent--ed- him-- with-- ----the------- fish,-- the ki-ng- ---w-----------a--s ast--------o------n--ished, for --never- ----i----n-- h----is- l-------if-e h-----a-----------d-- he-- ------s---ee--------------------------n------- an--------------------y-thing- like------------ t---hem.- H-e---- gav----------e- -o-rde----------r-s th------a------t- they we--re- to- be--- h-an---de-------d over- to---- a-- sl-ave g--irl-- w---------ho---------- w----as- ------acti------ng-- -as -c----------o--------------ok-- -b-ut w-h-os------e s-----------------------ki------ll-- ---h---------a---d n-----o-t- --y--et b-----ee--n-- -------------te-st-ed, --a-s-- she ha------d- be---en g-----iven -him- -thre--e-- days-- -ea-rlier----- by---- t---he -king--- of Rum. Th------e viz------i-er- -t------o-ld -her to fry- th-e fish, addi--ng that the king----- had-- sa----i----d-- tha-----t- h----e--- was te---sti-ng-- -h--er --only- -i--n---- t---he hou--r of ne-----e-d, ----and- th--at-- -he- wa---s-- put---------ti-ng ---his- -hopes -in- h--------e--------r--- a---r----t----------i-------st-ry---- --------an------------d--- --------c-----o------------------o-king skills,--- --for------ ----t--he fish had- bee---n-- giv---en- hi--m--- as- -----a---- pres--e---n------t----.\n",
      "\n",
      "Aft---er issui--ng- ---t----------hes-------------e-- i--n---------------stru--------c--t--i----ons-, the vizi-----er-- w--e---n---t----- back-- to------ th--e-- ki-------ng,-- wh----o-- -told-- him ---------to-- hand the------ fis-----her-------man- fou------r- hu-nd-------re----d--- ------d------in---ars.-- Aft-er h-----------------e-- --h-------ad p-ass--ed --ov------er -t---he- m-oney, the m-----an- sto-----w-------ed-- it --i---ns--i------d-e- ----his- clo---------the----s- an----d s-et ------of--f-- back-- -home -at- --a run,-- fall-----ing,- get--t--------------ing- ------------------------------up a------nd-- th----------en- --s-t----umbl--------i------------ng--- -ag---ai------n,- -------thin--king ---th----at-- thi-s w-a--s all-- a-- dr--ea--------m--------. He bough-------t-- wha---------------t- w--a-s -n--------eeded f----or- -his- f-----------a------m------i-------l----------------y --an--------------------------d ---the------n-- -r--------------eturn----e------d --t------o- h-is-- wif-e--- i-------n joy-- -a--------nd- d-----el-----i-g-----h----t--.\n",
      "\n",
      "S----o-- m-----------------------u-ch- -------for --------hi-------m,- but- ------a--------s f---------o-----------------r -------------t--------he slave girl, she to------ok-- -t----he-- --------------f------------ish------ ---a---------------------n------d ------------------------------c--l--------e---aned -------th------em--.---- T-----hen, --aft----e-r- ----s---e----------------tting -t----he-- fr--ying ----------pan -on- t----------he-- --fi-r-----e, ------s-----------h------e----- put--- the fi---sh in-- -i-----t-- --an--d----- when on----e -sid------e w-a--s prop-----------e----rly co---ok--------ed---------,- --sh-e turned them on t-----------o- ------t----he -o-------ther-----. Al-----l--- of-- -a---- -s-------udden,- the- k---i----tch-------en- wall-- spl-------i--t op--en and--- out---- cam--e -a------ ----girl, wi-th a-- b-eautiful- f--ig-----ur-----e- --------and smoo-----------th-- che--e------ks, perf--ec-t i-n- all---- her-- at--------tr-ibu---tes.--- H-er eye----s w-------ere darkened with-- ko-hl- and--- ---s----he had-- -on a silken--- k----affiy-eh- with a blue f----r-----inge.- -She w----a--s we----a--ring- ------e--ar-------ri--n-gs;-- ---on-- her wri---s-ts- w--ere- a-- ----------p----a------i----r--- -----of-- ---------br------acelet-------s, ---while-- -her fing-ers- w---er---e -adorn-----ed- w-i--th- -rings-- s-e---t- wi----------th--- precio--u--s g-em-s,--- and --------------in- her-- h------a-nd- s-he- -held a----- bamboo-- staff.- Thr--------u--s-----t-ing t------his into-- ---the pan,- she -asked:- ‘F------is-----------h,-- ----are- you---- st----il-l- f------a-i----thful- ----to --------------------y-----------our-- --covena----n-t?’ ----------at wh-ic-h t-he-- cook faint-ed. The- g----irl-- repeat---ed he-r-- qu--es---ti----on-- -a--- --s----econ-d and ---a--- --t----hi------------rd --time -a---nd the-- fi-sh rai-sed---- t-heir- -he--a---ds fro--m- the------ pa---n- and -----s----aid: ‘Y---es,- y-es,’ in--- cl-----------e--ar- v-oic--es-----, an-------d the---n----- --t--------------h--ey -rec----i---t---e-d:\n",
      "\n",
      "---------------------If --y--ou-- r---e---tur-----n-, we -retur-n;\n",
      "\n",
      "If---- y-ou k-e----e-p- f----a----------i-----------th,----- then so----- --do w-e,\n",
      "\n",
      "------------B------------------u----------t-- -----------------------i-----f ------------you g-------o--- --off,- w-e- -----------------ar-e q--u---its--.\n",
      "\n",
      "\n",
      "\n",
      "At- ----tha-----t---, --t----he girl ---turn----e-d-- ---the-- pan ---upsi--d--e----- --dow------n- ----with---- -her st-aff---- ------and l-ef-t --t--hrough the ---------------ho-le fro--m- -----------------------which-- she- ------had- com--e, aft-er w----hic----h the w-all----- c----lo-s-ed up b-e--hin-d -her----------. T-he co--ok- r---e--------------cov-----------ere----d- from-- -h------er ------f----ain--t-- -a------n-d----- saw--- th-e-- fou-----------r-------- -----------f-----is---h--- -----------bur-----n---e-----d- l---ik----e black--- c-----h--------a--r-c---oal--. S----he -ex--------------------------claim-ed: ‘His-- sp-----ea-r--- wa------------------s-- b--r------------o-------------k-----e---n- on- his v---------ery- f-irst-- ra------id!’ and f--e-------l----------l- uncon----sci-ous- --ag-------a---------i--------n- --on- the fl-o--or----------. W-hile sh---e was --in- ---------t------hi----s c----onfus--------e--d ------s-----tat-e,--- ------------------the vizi--------e--r- ca--m---e -an---d --saw th-at- ----someth-i-------ng ------h---ad-- g-one- bad--------l-----y wr-------o---ng- with--- her----------, so--- mu--ch so---- --th-a---------t -----she co----ul---d----- --not eve------n--- -----------------te---------l-------l---- -------------------------w--hat d--a--------------y -of----- t-h--e w---e-----ek it- w-as. H-e -nudg-----ed --------------he----r- with -----h------------is- fo---ot-, and- w--------------he---n --s----------he -----had recov-ered- h-er-- s-ens----es, s--h----------e ---exp-----------l--ained to him,- ---in- tea----r--s, what had- happe-ned.- He-- wa----s astonished-------, and exc-----laimed: ‘This---- i-s s-om-e--t----hing- w-o-nder----ful!-’ He---- th--e----n-- se---nt f-or--- -----the fisherm--an-- -and,- ----w--------hen -h------------e w--a--s br-------ough--t --in,- the-- -------v-----iz---i-er t----old- -him- ---to fe----tch another -f--ou--r- fi-sh lik--e ---the first on-es.\n",
      "\n",
      "Th----e- f---ish----e--rm-a---n w-ent-- t-o----- --the p-o--ol,- cas-------------t- hi----s- n------e------------t and wh----en ---he dr-ew- it-- in,- there w---------er-e f-our fi--sh-- l------i-ke--- --t-he- f-ir--st. H-----e ---t------------ook-- ----------them--- to ---t--he- vizi-er--------, w-h---o--- -------b-------r-------------------oug---ht--- --------------------th--------e---------m----- t-----------o-- the cook----- and sa-id--: ‘Fr-y these ----in-- fron--t of me so- th-a-t- I-- c----a----n--- se------e- what- h------app-ens.’ Th-e- cook--- g----o--t---- ----up-, p---------------r--ep------are-------d t---he- -fi-------s----h,- pu---t the-- ---p----an- ----over--- ------t-------he- f---ir-------e -an---d t-------------hr------ew them- i--------n--to-- it.--- As--- so------on----- -----as----- she d--id, ----the-- wall spli--t---- -open- ---------and- out- came---- ----t--he gi--------rl,- looking-- as---- s--he-- had-- ----------d------one- befor-e,--- wit--h-- -----a- s--t--aff-- i------n -her- -------h----a---nd. S-------he pr-------odd----ed -----the----------- p---------a------n and ------------ask-ed: ‘Fish,-- fish,---- ar----e- y-ou true- t---o-- -your--- -ol-------d coven------an---t?’---- A--t- thi--s----, all-- th-e----- fis-----h ra-ised- -----their -he--ad-s and repe-at-ed--- --------------t--he li------nes:\n",
      "\n",
      "--If y-ou-- re---tur--------------n-, we-------- retur---n;\n",
      "\n",
      "If y--ou- ke--e---p -fai-th------, -------then s-o-- ---------d---o---- w-----e,\n",
      "\n",
      "Bu---t------ ----if-- y------o---------------u-- go--- -----off, w--e --ar-e- q-------ui--t-----------s.------\n",
      "\n",
      "\n",
      "\n",
      "\n",
      "\n",
      "Morning now dawned a-nd Shahrazad --------broke off from what she had been allowed to say. \n",
      "|||||||||||||||||||||||      |||||||||| || |      |   |              | ||    |           |        |  ||     |          |     | ||   | | |         |        |  |  || || |||      |||||  |                |   |                                           |       |         |           | |||||||||      |       ||   ||||      |      | |               |   |     |||   ||         |       |   |         |     ||   |   | || |                             | ||   |||  | | |     ||||               |                      |         |   | ||||||||     |  ||||||||||||||||||       |  |        ||||   |    ||    |  |       |  || |  |      |    | |    | |     |  |    |    |      |   |  |  |  |  |  |   ||   |     |      | |    |    | |    |  ||  |  ||     |         |  ||      | |   |  | |      |      |   |    || |  | |  |  |   | |       |    | |  |        |    ||  |   |   |  | |     |      |  ||  | |    |     | |  |      ||  | | |      |  ||  |  | |   |     |     |   |   ||             | |    |    |  |||            |  |       |   |  |   |     | |  || |     |  |    |  | |       | |   |    |  |      |  |    || |   |   |         | |  |      |    | |||    |   |    |         | ||||| |   ||                                 ||  |   |       ||         |||     |   |   |   |    ||||  |    |             ||  |  |  ||  | | |   |       |          |    |  |     |       |       | |||| |   |   ||     |        | | |  |   ||         | | |  ||||  |        ||     |  |  |               ||  |     |     |   |      |   | | |  |     |         |    |  |   |  | ||   | |     |        |            | |  | || |  | |||   |      ||  |   |                   | |       |          ||     | |  |   |     | |  |      | |    |      |  |  |        |  ||||         | |   ||      ||   | |     |      |   |   ||||     |  |        |         |   |    |  |        ||| |  |||||||    ||  |      |   |||| |           |       |           |   |  | |            |||||     |                  |||||||      |   |    | |   ||   |      |    |  |  | ||    |  |   |  |   ||       | |  |          || |     |  | | |||          |   ||   |  |||||||||||||      |        |  | |         ||    |             |||||    || | ||   |     | |    |  ||   ||  |  |           |      | |    | |      | |  || |    ||       |        ||||  | |  |  | ||||   |    | |   |||      |    || | |        |  ||       |  | |    |           |  | |    || |   |   |   |        ||    |        ||||   |       |     |  |    |      |   |    |     | |     || | ||            |     ||||   |       |    |      |    ||| |   |      ||       ||      | | ||  |  ||    |        ||    |  |  |  |   |   | ||     | |  | |  |  | |||        |    |    | |   |  || |       |   ||   ||  |    |      |   || ||         ||   |      |      |   |   ||||      |  ||     |       | ||   |   |             || |  ||     |    ||||    |   |  |  |       |  | |  |   | |    ||||||   |  |      |  |  |  |         ||  | |  ||    |  ||   |   |   | |          ||        |||     |       |  ||   |     |   |   |  |     |   |   |   | |||||          |  |     ||       |  | |      ||       |  |  || | || |    |  |||    | |    |  |   |                       ||  |  ||   |  |  |            |        ||     ||     ||  ||||| |      |||   |||      |  |   | |||         ||| |   |      |   |  |  |   |         |    | |||  ||  |      ||           |     |   |   ||||  |       ||   | | |       |  |      |   | | ||   |  |  | |     |    |  | | |           ||      | |         |   |||    |  |    ||  |       |    |     |   |  | ||   | |            ||| |  | |   |   |     |           |   |  |     |     |   || |  |        | |||||||||   |   |||    | | |        | ||    |    |   ||||||| | |  |     |     |   |    ||  | || |    |            ||   |||| |            |||  |||||    |    |  |  ||     |  |  | |  |      | |   |  ||        |     | |  |  |   |   |         | ||       |  |      | |      |   |             ||      | |           |      |    | |              ||   | |   |   || |||  | | || |||            ||   |                    ||  |     |                 ||    |           | |||   |    ||               |  | |         |       |      |    |   || |||||||||       | | ||      ||||  |  | |  |     | |   | |  ||          |||    |   |            |   |   |    |  |                   || |      |     |  |       ||     |  |     |     || |  |  |      || |     |             |  |||||||   |   |   |      ||     |  | |    |    |   ||     ||||  |          |||||    |              ||     ||     | ||  |      |  |     ||  ||  |       |   |   |          |    |     |     |     |  |         |||  |              |  |   |||   | |    |    |||    |           ||    |    |                |  ||  |       |||||     | ||   |  |   | |||||  |    | |         |||||       |     |     |  | |     |  |   | |  |   | |||       |  |      ||||    |   || |    |     | ||   | || |      | |||     |   |   |  |    |    |   |    |    |   |  |  |        ||  | |   |   | |     | | || |    ||       |  | |           ||     || ||||           ||      ||||||||| |   | |     |         |    || ||  | |    | | |                |  ||      ||  |    | |             ||      |  |             |  |     ||   |  |        |    ||      ||     |   || |||       |   |        |   |     ||  |  | |   || |    | |     |   ||     ||      | |    ||    ||  |     |||        |  | | |   |  | | |  |      |||    |    |       |   ||  |    |  | | | ||  |      |  ||    |  |    |  ||         |||  |   |    |    ||    |   | |      ||||| |           |    |            |    |    |    ||     |  || |    |       | |       || |   |   |      |   |  |  |      |  |||||        ||  |           |  ||  | |      |||| |       |         |  | |  ||   |  |    |    |       |   |  ||  |   |     |||                   ||   || | |     || |    ||  |     | |  |   ||||           |||      |      | | |              | |    ||  |        |          ||  || |  |    | |    ||   |  |  ||   ||          || |    |||    |  |   |    |      | | || | |   |  |  |   |     | | |     |||||                 || ||  | |     |||       | ||||||| |  |  |           |         |  || |  |      |   | |         |  |  ||  | |  |     |  ||   |           |  |  |    |||     ||   |   ||  |  |   |  |  |   |  |     | | | | ||               ||||||    | |  |  |||    |         ||||||     |       |         || |||| |       |   | |      |   | |   ||      | |   | |   |    |  | |      ||      |    | | |   ||     | |           |    ||   |    |  |        |  |  |    |   |          |            |  |  | |  |    | |    |    |  |  | |||        |    |  | ||  |        | |    |||||    |  |    || |  |   |      |    |  |    ||      |  |  |||    | ||||||||||||||||     ||   | | |||||| |||     ||  | |     |   |      |   | |    |    | |  | |      | |     |  |    ||  | |  |   |    |     |   ||      |     | || |   | || |   |   |    |        || | ||    |  |   | | || ||||  |    |      |||| |   ||        | |   |       |   |  | ||    |||    |     ||   |      ||        |       |       |  |    ||    | |     |       | |  | |   |              |||  ||          |      ||         ||  |  |  |   | |       |    || |      |     |  |    |     |       | |      |    ||       | |  | |   ||| ||    |      |  |  |                |||    | |   | |    |   |   |               |  | |   | ||    |      |        ||||| |  |   |  ||   | | |       ||   |    |   |      |               |    ||  | |  |  |  |||      |  ||       ||   |  |     |  ||  |||  |    | |  | |   |  |   |   ||||         | |  | |     | |    |    |||| |    | |    |   | |   |       | |     || |    | |  ||     |  | |  |    ||        |||||||      | | |   | | |    |         |  |       | | |   | |            |  | |  |                       | |   || ||||   | | |   |   |     | |||  | | ||          |           | |    ||                              ||||||||  |      ||           |  | ||  |      |     |    |  | |             |               |   | | |||  |           |                | ||       |   |   |  || | |          | |   |  |  | | ||   |        |   |  |||||   |  |  |     | |    |   | | |||| |     |   ||   | |     ||  |   |||         |   ||  | |           |  |  |  | | |         |     |||  |         |  |       |   |    ||  |||       |            |  || |      |    |        |   |      |         ||  ||||                   |            |             || |||       |       |           |   |    |       |   |                               |||  ||||  |     |           |     | || | || |   |||           | |       |               ||  |     |     |       | | |  | |       |||  |   | |                      |||| |          | |  |  |   |            |||||       |           |  |         |  || |    | |         |   |||        || || ||     |   |   ||           |        ||    |               | ||    ||                   ||   |    |||         |   |      |             |     |  |   ||               |   || |  |  |     |    |       ||      ||||    |         ||   |  ||   |    |          ||   |   |   |  |          |   | ||||||   |||||        | |      || |   || ||||  |||||     |  |   | |  |      |||   |     ||||||     |  | |    ||   |             |    |||||           |    | | |||            |     ||     ||   |  ||     | ||||    |  | |  |  |   |   |    |      |  || |        ||   || |     |  ||  |    | |       |       |||||   |  |   |           |  || |         |      |  ||     |||   |  |  |    |    |  |     || |        |  ||      |           |  | |  |      |   ||                          |       |||                    | ||||| |   |            |    ||   |  |    | |           | | | | |          | | |       |      | |||| |    |  | | |     |  ||   |        | |    |      ||  | | ||||   |    |          ||          |     || |      | |       |   | ||| |          |              |   | | |||  | |       ||                        ||      ||  |   |         |   ||      | | |  |  | |      ||  |  |             |  |  || |  | |  | |||        | |     |||      |  || ||  | |     |  | |    | |  |  |      |      ||   ||| ||     |||     | |      ||         | |  | |      | ||| ||         |   ||  |         | ||||||||||         |||   |      |    |  |        | ||    |   |||||     ||  |   | |  | |  |    | |  |    ||   ||||    |||||       | | |    |   | |  |   | || |     |  |  |         || | |   ||| | |  | | || |         |        |   ||   |    |          |       |  |     |        ||            |   |        |     |                  | |||||          |  |||      |    |  ||||||  |   ||     |  |      |  |    |   ||| |     |    |      |   |      |    |        | |       |  |   |          ||              |  ||  |               |||         |  |  |    |   ||||||         |   |   |   |   |     | |    |        |    |  |         |    |||    |  | ||    | |           |   | ||||         |  |     ||        ||| |         | |   ||       ||    |   |      |      ||   |     |  | | |                  |  |  |       | |  |    |    |       | | |   || |  |    |||||      || | ||     |       |   ||||  |   |   |      | | |    |   || |         |||    | |      ||  | |      |   |  | |    | ||  | |  |  | | |   |         |    |  |  |              ||| |                              | |       |   |||          |  |  | |    |  |        |            |    | |    |       |  |       ||    |||||   ||    |   |    |   |  |||    |   |    |         |        |||||            |  |  |               | |   | || |        ||||||     |  | |   |            |      |      |       |                ||  |                           ||   |||      |  | |              |||||    |      ||  |      | |  |   |    |   |        || |   | |        |  |      |      | |     |    |  |       |  |                        | |  |       ||||        |        |  |  | |      |        ||          |                 ||             |        |||||||||||||  |  |||      |   | |    ||  |              |            ||       |   |                     |      ||                              |  |        |   || ||       |       |   |    |      ||| |  | |    | | |    |   |                |||||| |    ||  |    |||||          |||  || |           |   |  |  |     | |      |           |      |     |      |||||     | |    | |     |  |  |   |     | || |      |  |        ||  |  ||  |            |    ||   |   |         |          | |  |  |   | |||||| ||  |           | |      |    ||  |       | ||     |||      |   ||   | |    | |       |   |  ||   |    |    | |       |  ||     |          |  ||    |        ||||    |     || |      |    |||| |   | |   |  ||       |   |      ||     | |        ||||               ||  | ||  |      || |      |  | | | ||      ||||  |          |  |     |      |  | |       ||        || | |   | ||  ||  |   |  |  |   |   |    | ||    | ||   |   ||   |     |  |  |  |  ||      ||     |     |||   | ||||     |  ||      |  |||  |      |  |        |   | |    |   |   ||| |      | |  |   | | ||  |          |    |      |    |   |     |   |         |       |    |       | |   ||  |  | || |   | | | |    ||   || |         |  |  |  || | |||    || |   | |            ||   || |     |  ||  |  |    |||||              || ||    |       | |  |  || | ||  |      |||      | |     | |         |  |     | ||||       |||| | |  |   ||   |   | ||| | ||   |        ||           |   |    ||  |       | |    |  | |       | |    ||    |    | |                    |           ||   |  ||        | |  |          |||   |  | | |   || |        | ||||| |     |    ||  | |   |||   |  |    |    |     |   | |   |  |    |    ||||||   |   |  |    ||            | |  ||||| |   |       |   | |    |      |  ||   | ||  |   | || |  | |  |      |     | |||||     |    | | |     |   |  |   |     ||            |  |  |  |    |      ||         |||||   |     |  |              |  | | ||     |   |   | |                        | |  |  |   |    |   |       | |   | |||   |         |  | |  |    | | |     |          |           ||      |||| |       |  | |  |               |                  |          |  |                       |     ||            ||||        |   |  |    || | |                 |  ||   |   |    |       |    ||      |   ||  |    ||   | |   |       | |  |   |||  ||      |     |  |     |  |        | |    |       | || ||| |      |      ||||  |  ||  |  |||||||||||               |  |||| |  | |                       |      | || |      |   |  |  | |    ||||    |      ||||||  |       |     |  | |    |  |  |   || ||           ||  |||    || |    |              ||            ||     | |      | |      | |      |    | |  |  | |      | |     |  |   |   |  | ||           |        |           |     |    |   |           |       |   |     | |    |     ||   |    |      |        |  | |   |    ||     ||| |                           || || || |      |       |  |   | |                  |  |   |            |             |     |   | ||  |||||          |   |  |     | |      ||  |||||   |       |          | |   |     |   |   |  |        |         |        | |  |  |||||   |  |           ||  |  |||    ||||||  || |         |      |     ||     |  ||        |  ||      |     ||| |    |                  ||||            |  | |    |   || |    ||  |  | | |  |    |      |       | |      |   |   |  |   ||          |     ||         |   |  ||      ||||          ||     |    |||      |  || |         ||     | || |    |    |     |  | ||         |   |                 ||         |       |    |                         |  ||||   |              || |      |  |  ||    |     | |   |  |     || | |      | |              ||    | | || |     |            |  |||   |  ||    ||              ||   ||  |          |||     ||||      | |  |  |   |  | |    | ||   |          ||   |             |  | | |||  |    |   || |       |  |||   | |   |||    |    |    |      |||   |    |       ||||||        |    | |         || ||| |  |  |    |||  |  | |       |    ||      |    |    |  |     | |  |    |     ||||         |   | ||   |    |        || | |            ||   |  ||         |     ||  ||  |||   |       |     |    | | ||    |   | |   |   |   |    | | |  |   | |  ||  | |   | ||    ||   ||   | | ||| |          | |    |      |  |  |   ||  |    |  |     |  || |  |  |   |                | |      | |       |            ||||||      | |   | |   |  |    |    | |||||          || ||  ||||    |   |       | |    |  | |  |  |   || |      ||   |            |||  |          | |    ||||   |  || |     ||        ||  |   |   |       |       |                   |     |    |                    |         |         |     |            |  |||||         ||||||| |   |||   |      |    ||  |||    ||||||     | | | | |   |     |    |   |        | |||   |       |   |    |   | |       |     |  |    |    |  ||                |  |       ||        ||    |  | |        |    |  |     ||     |   |    || |    |  |   |      |       || |    |        || ||   |||             |       | ||||  |         |  ||  |      |     |        |      |     ||     |||||   ||||    |||  | |         |    | |    |         ||  |  | |   |    |    |  |||          | | |         | |    |   ||  | |   |          |      ||| |||    |    | ||  |  |     | |   |  |    |       || ||  |       |    |   || |        ||| |       |      | |     |||           |          |      ||||||            ||  || |    |   |   |     ||     | |  || |    |    |  | |      | |        || |  |      ||   |      |   | |||   |    |||    |   |     | |      ||   |    |     ||   | ||  |  ||||||     || |    |              |  |||        ||      | |  |   |     | |              | ||          |        |     |   |  |    |   || |   ||      ||       ||| || |  |         |   |    ||     ||       |      |    |   |       |               |  |     |     | | |   ||  |  | |        |   |           |       |||||||||||||||||||||||||  | |||||||||||        |||||||||||||||||||||||||||||||||||||||||||||||| \n",
      "Then, when it was the s--eventh night, she- ---continued:\n",
      "\n",
      "I have heard, -O auspicious kin---g, tha-t, when the fish spo--ke, the girl -overturned --the pan wi-th -her st---aff and -then left by the way she had come, with the wall closing behind her. At that, the vizier got up and said: ‘--This is someth---ing ----whi-ch must not be kept from the king.’ --So he went to the kin--g and told him the story, explai-------------------------ning wha--t he ha-d- -seen for- himself. ‘I must see this with my own eyes,’ said the king, and at that the fisherman was sent for and told t--o ---bri--ng --a-nother -four fis-----h -like- -the -o----th--e----rs. He went down -to-- --the -po-ol w--ith three guards as an escort-- an-d brought --the -fish immediately. The -kin-g -ordered ---him -to --be g-iven- -four hundred dinars, after-- ---which --he t-ur---n-ed -to- the vizier and told -h-im: -‘Come and cook the-se- fish in my pr-es-ence-.’ The vi-zier --did as he was told, bro-ught---- -the --pan and, after preparing the --fish, he- -put- --the --p-an o-ver ----the fi-re --and-- ---thre-w ---the-m- in-to -it. As soon-- as he did so, th---e --wa--ll -split open and -o--ut -came a black slave, tall as a mountai--n -or like -a survivor -of the ra-ce -of --‘Ad. I-n -his -hand was a gre--e-n -bough -and--- he asked in a hectoring -vo-ice: ‘Fish, f-ish, are you- ---true to your old covenant?’ -The -----fish raised their -heads fro-m the-- -pa--n and replied: -‘Y--es, yes, w--e --keep --to- -our --covenant.\n",
      "\n",
      "If ------you return, ---we ---return;\n",
      "\n",
      "If --you keep faith, then --so do- we,\n",
      "\n",
      "But i-f -you- go off, we are quits.’\n",
      "\n",
      "\n",
      "\n",
      "The slave came- up to the pan----, -overturned -i---t --with --the --branch -that -----he was holding, and left- --by t--he wa--y --that -he ha-d -come. The vizier and t--he --king looked at the fish--- an-d --saw that they -were now li-ke charcoal. The ki-ng was amazed and said: ‘-This is something that cannot ---be kept --qui-e--t a-nd ---ther----e-- -must --be -so-me -secret -attached --t---------o the--m.’ -So- -he gave orders- for--- -the fisherman to be summoned a-nd- -----when the ma-n came, the king --asked -hi--m --where -the fish--- came fr-om. ‘From a-- pool- --surro-unded by four -mount-ains,’ replied the fisherman, ‘and -it --is un--der -the mountain- -o------utside the city--.’ -The --king turned and asked: ‘How--- many days’ journey is it?’ and -the-- fishe-rman -to--ld --him that it wa-s half -an hour awa-y.\n",
      "\n",
      "This astonished t-he king and he ordered --his troops ----to m-------ou----nt -and rid--e ----i---mmediat---ely, wit-h -the fisher--man at thei-r hea-d, ---while the fisher-man, --in- --his turn, a--s he a-ccom-----panied the- king, spe-nt ---his --time -cur--sing ---the ‘ifr--it. ----The -riders--- -climbed up the- -mou--ntain and th--en went down ---into -a br-oad plai---n that they-- -had never seen -before in the-ir l---ive-s. -Eve---ryone, including th--e king, w---as -filled with- wonder when they lo-oked at it and at- the pool in its ce-ntre, set as i-t wa-----s b--etween-- -four mountains,-- wi--th it---s -fi-sh of four colours – red, wh-ite, yello-w and blue. The king halted in asto-nishment and -a--sked hi--s soldiers --a-nd the ---others ther-e whether they-- -ha--d -----ever -seen- th--e -po-----ol ----before. ---‘Ki-ng of the age-----,’ t--hey -replied, -‘n-ever in all -ou---r lives h--ave ---we set -e-yes on it.’ -The elderly were a-sked about-- ----it-, --but th--ey -too said that t--hey had never before -seen the- po--ol t-here.\n",
      "\n",
      "The -kin-g -then -----swore by-- ----God: ‘I shall not e-nter -my city -----or sit on my thro-ne again -unt--i-----l----- --I ---fin-d -out ---th-----e secret of this- pool and of these fish.’ He---- -ga-ve --orders --for his men to camp around the mountains-, --a-nd -the-n summoned his vizier, -a learned, wise and sensible man, -with a- knowledge of affair--s. Wh---en he came in-to the king’s presenc-e-, the ----king said to him: ‘I am going to tel-l you wh--at I want to do. -It has struck me- th-at --I sh---ould go out alone -tonight and investigate the s-ecret of this ---pool -and ----of these --f-i--sh. I w-a-nt -you to sit at the -entrance of my tent and to te-ll the -emirs, viziers, chamberlains --and --deputies, -as well --as everyone- -wh-o asks about me, t-hat I am unwell and th-at --yo--u ---have ---my -instructi-ons -not ---to allow anyone to come in to- see me. Don’t tell an-yone wha-t ---I am-- planning to-- do.’\n",
      "\n",
      "The vi-zier was in no- position to dis---obe-y -and so the -ki--ng changed hi-s clothes and strap---ped -on his sword. He climbed do-wn from one of t-he mou-ntains and ---walked--- -on- for the -re--st -o--------f the ----night until morning. --He s-pe---n-t- a-ll the -next da-y --walking --in -the -i--nte--nse -heat, -and --carri-ed ---on --fo---r-- a sec---on--d ---ni-ght unti-l -morning. At that --po---i-n-----t, -he- --was ----plea-sed --to see something black in the distance, and he said- --to- -----h--imself: ‘Perhaps I shall find- ---someone to tel--l -me abou-t the p-o-ol and the fish.’ Whe-n --he went nearer -he fou-nd a p--alace m--ade ----of b-lack ---st-ones plated--- -with iro-n, ---one -leaf -o--f who----s-e----- --gat----e w----as -o-pen a--nd t-he-- other shut. Joyfu-lly--- -he- -s-tood by the door---- -and knocked --lightly; -on -he--a--ring -no reply--,---- -he --knocked a -se--co--nd --and ---a -third------ time, --and when there -was still no- answer, he kno-cked -mor-e---- --loudly. -When no -o-ne answered, he wa-s -su-re tha-t the ---palace must be empty a-nd -so, -plucking -u-------p- his courage, -he -wen-t -thro-ugh ----the --ga-te -to--- ----the --passage that led from it, -a----nd ca-lled out: ‘Peopl-e of the ---palace, her-e is a passing stranger. Have you any fo--o-d?’\n",
      "\n",
      "He repeated thi-s a- -second -a---nd ---a-- -thi-rd time, and when ---ther-e wa-s -sti--ll ---no r-eply, -embol-de--n-ed -and heartened, he went through the pas-sa-ge- -to the ---centre of the- palace. This was f-urnished with- -silks, starry- --tapestri--e-s and -o--ther hangings, but there was n-o one there. In -the centre --w-as -an- open spa----ce, -leading to four halls. Ther----e- --was a --sto-ne bench, and one ha-ll next to another, then ---an or-nate -founta-in -a--nd four lion-s of --re----d-- go----ld, --from -whos-e- mouths water -poured, gli--tter--in---g --like pearls o-r --gem-s. -----Round -and about were -bird-s ---and --ove----r- the -top of the palace-- there was a net of gold that kept ---the-m-- -fro-----m -flyi--n---g a--way, but the --king was astonished --and saddened that -he ---had --not--- se-en ---anyo--ne- ---wh--om -h--e- --could- ask ab-out the plain-, -the-- po--ol, -the fish, t---he mount--ains an-d t-he palace.\n",
      "\n",
      "He was- sit--tin-g betw-een the door--s, --sunk in th---ought, when- --su-ddenly ---h-e hea--rd a -plai-----ntive sound co-ming fro-m a sor-rowful -heart, with a- -voice- chanting- the-se -verses:\n",
      "\n",
      "I try to hide what I s-uffer at your hands, but th-is -i-s clear,\n",
      "\n",
      "With my eyes exchangi--ng ---sleep for sleeplessn----ess.\n",
      "\n",
      "Time, -you neither s---pare me nor cease your work,\n",
      "\n",
      "And --it -i--s between hardshi-p and danger that my--- -he----art lies-.\n",
      "\n",
      "Have you -n--o--- --mercy -on -----one whom love-’s law has- abased,\n",
      "\n",
      "Or on- the wealthy -who is --now made poor?\n",
      "\n",
      "I ---was -jealous of the breeze -a-s it blows -ove--r you---,\n",
      "\n",
      "But wh--en --fate- -pounces, then men’s e-yes --ar-e bli-nd.\n",
      "\n",
      "What-- can th----e- --ar-cher --do --if, as -he meets the foe,\n",
      "\n",
      "Hi-s- bow-stri--ng snaps just when he wants -to shoot?\n",
      "\n",
      "When ca-res mass to assault a man,\n",
      "\n",
      "Where can -he f--lee -from --destiny -and-- -fate-?\n",
      "\n",
      "\n",
      "\n",
      "When the king heard- this lament, he got up and, following the --sound, he found a cur-tain -lo-wered over the door of a room. He li-fted it and behind it he -found a handsome young man, well made, elo-quent, with a- ----bright face, rud-dy- cheeks -and a mole o-n his -che--e-k --like a---- ---disc of -a---mbe--r. --He- --was s-ea--ted on a couch raised -one cubit from the ground and he fitted the poe-t’s description:\n",
      "\n",
      "There is man-y a -slender one whose da-rk ha---ir and bright forehead\n",
      "\n",
      "Have made mankind to walk in dark and light.\n",
      "\n",
      "Do not fi-nd fault with the ---mole upon his cheek:\n",
      "\n",
      "I w-ould sell my bro-the-r in exchange for such a speck.\n",
      "\n",
      "\n",
      "\n",
      "The -king was- glad to se-e him and greet---ed -him. He, for his part, was sitting there -weari---ng ---a silk go--w-n embroidered -with Egyptian gold, and on his he-ad was a cro-wn studde-d with gems. He -was showing signs o-f grief, but when ---the king greet-ed hi-------m, -he replied with the -utmost courtesy: ‘Your dignity deserves that I should rise for you, but I have an e-xcuse for not-- doin---g so.’ ‘I excuse -yo--u, -young man,’ sai---d -the -ki--ng. -‘I a--m your guest and ---I -am also he-re -on an important errand. --I want-- you -----to tell me- about--- the --pool, the- fish, th-is palace-, the -reason w-hy yo-u ---are here a-lone and w---hy -you --are weep----ing.’\n",
      "\n",
      "Whe---n the ------young man heard this, tears co-ursed down hi--s -cheeks and he ---we-pt- bit-terly --un-til ---his -breast was dren-ched. ---He --then recit-ed:\n",
      "\n",
      "Say -----to the --on-e to whom Time grants -s-leep,\n",
      "\n",
      "How often mis-----for-tun--e-s subside only -to rise -up!\n",
      "\n",
      "Whi-le -you may sleep, God’s -eye remains sleepless.\n",
      "\n",
      "For whom is Time unclouded and for whom do worldly things ---endure?\n",
      "\n",
      "\n",
      "\n",
      "He -sighe--d -deeply -a-nd continued to r-ecite:\n",
      "\n",
      "Entrus-t- your affair to the- --Lor-d -of --all -mankind-;\n",
      "\n",
      "Aband-o---n --care and -leave -asi--de -anxious thoughts.\n",
      "\n",
      "Do -not ask how wha-t- happen-ed has occurred,\n",
      "\n",
      "For all things co-me about -thro-ugh the -decree of fate.\n",
      "\n",
      "\n",
      "\n",
      "The king, filled with wonder, asked -the youth why he- -was weeping. ‘How can I not- s-hed- tears,’ -he --replied, --‘when -I am i--n thi-s st---ate?’ -a--nd he- r--e-ached --down to the ski--rts of----- -his robe ---and raise-d it. It could the--------n --be --s-------een- that the ----lower ha-lf --of his body, ---down to his feet, was --of st-on-e, while- fro---m his navel to the h--air of --his head- he wa--s -huma-n. When --he saw --this condition- of his, th--e- king -was filled with grief and regret. He exclaimed in s-or-row: ‘Young man, you have added another care to my cares! I was looking -------for information about the fis--h--, b--ut now ---I se-e --I must ask both about ----them and about you.-----’ He- -----wen-t on to recite the- formula: ‘There is no power and no str-ength except with Go--d, the ----Exalte-d, -the Omnipotent,’ -a--nd --added: --‘Tell --me at on--ce what your sto--ry -i--s.’\n",
      "\n",
      "‘List-en -and ---look,’ --said the- young man. ---‘My ears --and eyes are ready,’ replied the king, a---nd --the- -young man continued: ‘There is a- -ma--rve--llo-us tale- attached -to---- the -fish and -to me, which, we-re it written- with needles on th--e c-orners of the eyes, --would -be- a lesso-n for -a--ll who-- ca-n lea-r-n-.’ ----‘How i---s --that?’ asked the king, AND THE YOUNG MAN REPLIED:\n",
      "\n",
      "You- -must kn-ow that my fathe-r was the ru--ler of this city. His n-ame wa-s Ma-hmud an-d he was th--e king of the Bla-ck ---Is--lands a--nd -of --the-se four mountains. He -----died after --a reign of seventy -years and I succeeded -him o-n th--e -throne. I married my cousin, who loved me so deeply tha-t, if I left her, she would neither eat nor drink until my return. She stayed with me for -fi-ve ---years -but then -o-ne day she wen-t -in the- evening to the baths.--- I told -the cook to prepare a quic-k supper for me and th-en I cam-e --to these apartments -and lay down to sleep in our usual place, telling the slave girl--s-- to sit, o-ne at my head and one at my feet. I was dis-turbed because of my wife’s absence, and although my eyes were shut, I could not sleep an-d I was st-ill ale-rt.\n",
      "\n",
      "It -was then- tha-t I heard the slave girl who was sitting at my head --saying to her compan-ion: -‘Mas‘uda, h-ow unf-ortunate- our master is and how miserable ---are the --days- --of his youth! Wha-t damage -he- --suffe-rs-- at the -hands --o-f that damned harl---ot, o-ur mistre-ss!’ ‘Yes,’ ans-we---r-ed the- o--ther, ‘may God curse treache-rous adult-eresses. A- man like o-ur master is too you---n-g t--o -satisfy t-his whore-, w---ho ---every night --sle-----eps outside ---the palace.’ The girl- --at- -my -hea------d -sai-d: ‘Our master is dumb and ----deluded in that -he never asks- ----que-st-ions a--bout her.’ --‘Do you t-hi--nk t---hat -he- ---knows -about her- -a---n-d --that --sh-e --does this with- h--is con---s---ent?’ -excla--i-me-d --th------e -other, adding--: ‘She -prepares --him a drin-k that he ta-kes ever-y nig--ht befo-re he- ---goes t-o -sle-ep and in it she puts a sleeping drug. He kno-ws nothing ab-out wha----t happens- or wh--ere she- ---goe-s. -After she ha----s give-n -him the drin--k, she puts --on her clothes, p-e---rfumes -he-rs-elf and goes out, leaving h--im -till dawn-. -Then she-- -comes ba----ck -t----o -h-im and burns something -under his -n-ose so th---a--t -he wa-ke--s --from his sleep.’\n",
      "\n",
      "Wh-en I hear-d ---what -the gi-rls -were saying, th---e light- became darkness in my eyes, althou-gh I co----uld not-- believe that --ni-gh-t h-ad c-o-------me-. Then -my wi--fe r--e-turned --from --the- bat-hs; o-ur table was spre---ad and we ate, after which we sat for- a time talkin-----g, --as- ---us--ual. -The--n she called- f-or my --evening --drink and when she ha-d- --give--n -me--- --the c-up which she ha-d -po--ure-d out, --I tipped the contents into my pocket, while- pre-tending to be d---rinking it as usual. I- lay do-wn -immediat--ely and,--- pret--en-----ding -to- -be asleep, -I heard her saying: ‘Sleep th-rough the- --night and- -ne---ver get up. By God, I loathe you and I loathe your appearance. I am tired of living with you -and I don’t kno---w when God is going to ta-ke -your li--fe.------’ She th-en got up, put on he---r- most--- splendid clothes, p---erfu---med herself and--, taking my sw---ord, she- stra--pped it on and -we-nt out through the palace gates, wh-ile f-or my part I got up and follow----ed -her out. Sh--e --made- ---her way th--rough the -ma--rkets -until- she---- -reach--ed the- city gate. -She --spoke -some words that I co-uld not under-stand, ----at which the- bolts fell a-nd the gate opened.\n",
      "\n",
      "My --wife --went -out, without realizing that I was followi-ng her, and passed b--etween the mounds -unti-l she ---c-ame -to a hut with a brick do--me. -As she we-nt in through its door, I cl-imbed- ----on --to the- roof -and looked down to see -her enter and go up to a black slave. One o-f his -lips looke--d -li---ke -a pot lid-- and -the other like the sole ---o-f a s--ho--e – a- lip that could pick up sand fro-m the --top o-f a pebble. -Th--e s-lave was lying on cane stalks; h-e was -lepro--us and covered in rags and tatte-rs. As my wife kissed the ----ground before --him, he ra-ised his-- -hea-d and s-----aid: ‘Damn- you, why ha-ve -yo--u b--een so slow? My --black cousin-s w---ere here drinking, --and --each --left with a girl, but becaus-e -of you- I didn’t wan-t ---to drink.’ She said: ‘My master, my darling, delight of my eyes, don’t you know that -I am married to my co-usin, -whose -appearance- --I -ha----te an-d- whose- company I loathe? Were -it- not that I am afrai-d for yo-u, ---I would not let the sun rise before the city had -----be-e-n -le-ft -de-solate-, -echoing to the scre--eches of owls a-n-d t--h---e cawing ---of crows, ---t-h--e ha---un---t --of --foxes a---n----d wolves, and ---I woul----d- -----move its sto-nes to behin-d -Moun---t Qaf---.’ --‘You --are lying, --damn- -yo-u,’ said the -------bla-ck man--. ‘I swear by the- chivalry of the -blacks --– and do---n’t thin-k th-at our chivalry i-s like- that o--f th--e whit---es – t-h-a--t--- if you are --as- l--ate as th---i-s- once------ more, -I wi--ll never- again -ke--ep -company with- -you o--r ---join my body to --yours. -You are playing fast and --loose- with- --me-. --Am ---I -here -just to serve -your --lus-t, -you stink-ing bitch-, -vi-lest- -of the whites?’\n",
      "\n",
      "As I looked on and list-e-ned to what they ----were saying, -the world turned black for me and I didn’t kno--w wh-ere I was. My wife was st-anding weeping, humbling -herself before the ----slave and sayi-ng: ‘--My------ darling, fr--uit of m----y -heart, -if -you are angry --with me, wh--o -will sa--ve---- --me, ----and -if you throw me ou-t, -who will shelter me-, my dar-ling and -ligh-t of- my eyes?’ Sh-e --went ---on weeping and implo--ring him until, to her -deli-ght, she managed to conciliate h-im. She- the-n -got up and took ---off --all --her clo-thes. ‘My master,’ she -said, ‘is there -a-------nything fo---r your servan-t --to ---eat?’ ‘Lift the --pan cover-,’ -------he -said. -‘There -a-re some cooked rat bones be---ne-ath -it that you can -eat, a--nd -you can the-n go to this jar and- -drink the -remains o--f the- beer there.’\n",
      "\n",
      "After -my wife had eaten and drunk, she was-hed- ----h-er ---h-ands a-nd her -mou-t---h -before ly---ing do-wn naked -o--n the cane st--alks -with th-e slave, a--nd --getting -i-n with --hi---m beneath--- the ra-gs and ----tatte-rs. When I saw what she --had done----, I- -lo-st --cont-rol of myself and, --climbing -----down----- -fro-m --the top of-- the roof, I drew the- sword that I had brought with me,---- intending to ki-ll -them both. First I struck --the neck o-f- -the sla-ve, -and thou-ght that he was- dead…\n",
      "\n",
      "\n",
      "\n",
      "\n",
      "\n",
      "Morning now dawned -on- Shahrazad and she broke off from what she had been allowed to say.-\n",
      "  Score=4646\n",
      "\n"
     ]
    }
   ],
   "source": [
    "print(format_alignment(*alignments[0]))"
   ]
  },
  {
   "cell_type": "markdown",
   "id": "bd79cc52",
   "metadata": {},
   "source": [
    "# To Do:"
   ]
  },
  {
   "cell_type": "code",
   "execution_count": null,
   "id": "31efcbdb",
   "metadata": {},
   "outputs": [],
   "source": [
    "#1. Align my target text against a (list) of text.\n",
    "#2. Store the identity of each aligning.\n",
    "#3. Get the maximm score(wich represent the hight aligning between our target story and its identical story)\n",
    "#4. Now, I will try to minmize this task for page-page alignment(repeat the above steps)\n",
    "\n",
    "# questions: - does my code consider synonyms? not yet\n",
    "#            - does my code consider looping to do alignemnt against a list of text? not yet\n"
   ]
  }
 ],
 "metadata": {
  "kernelspec": {
   "display_name": "Python 3 (ipykernel)",
   "language": "python",
   "name": "python3"
  },
  "language_info": {
   "codemirror_mode": {
    "name": "ipython",
    "version": 3
   },
   "file_extension": ".py",
   "mimetype": "text/x-python",
   "name": "python",
   "nbconvert_exporter": "python",
   "pygments_lexer": "ipython3",
   "version": "3.9.7"
  }
 },
 "nbformat": 4,
 "nbformat_minor": 5
}
