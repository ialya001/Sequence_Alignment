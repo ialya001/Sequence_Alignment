{
 "cells": [
  {
   "cell_type": "markdown",
   "id": "c4d604c4",
   "metadata": {},
   "source": [
    "# To Do list:\n",
    "## 1. detect semantic similarity between two text"
   ]
  },
  {
   "cell_type": "code",
   "execution_count": 35,
   "id": "95ddc514",
   "metadata": {},
   "outputs": [],
   "source": [
    "from minineedle import needle, smith, core\n",
    "from nltk.corpus import wordnet\n",
    "import nltk\n",
    "\n",
    "import glob\n",
    "\n",
    "#Load text files that has two stories as txt file\n",
    "file_names=glob.glob(\"/Users/ibrahim/Desktop/Preprocess/AllStories/*.txt\")\n",
    "file_names\n",
    "\n",
    "\n",
    "raw_documents=[]\n",
    "for file in file_names:\n",
    "    try:\n",
    "        with open(file, \"r\", encoding=\"utf-8\") as f: raw_documents.append(f.read())\n",
    "    except:\n",
    "        pass"
   ]
  },
  {
   "cell_type": "code",
   "execution_count": 36,
   "id": "0f667c5c",
   "metadata": {},
   "outputs": [
    {
     "data": {
      "text/plain": [
       "['/Users/ibrahim/Desktop/Preprocess/AllStories/PNight5.txt',\n",
       " '/Users/ibrahim/Desktop/Preprocess/AllStories/PNight4.txt',\n",
       " '/Users/ibrahim/Desktop/Preprocess/AllStories/PNight1.txt',\n",
       " '/Users/ibrahim/Desktop/Preprocess/AllStories/PNight3.txt',\n",
       " '/Users/ibrahim/Desktop/Preprocess/AllStories/PNight2.txt',\n",
       " '/Users/ibrahim/Desktop/Preprocess/AllStories/BNight1.txt',\n",
       " '/Users/ibrahim/Desktop/Preprocess/AllStories/BNight3.txt',\n",
       " '/Users/ibrahim/Desktop/Preprocess/AllStories/BNight2.txt',\n",
       " '/Users/ibrahim/Desktop/Preprocess/AllStories/BNight5.txt',\n",
       " '/Users/ibrahim/Desktop/Preprocess/AllStories/BNight4.txt']"
      ]
     },
     "execution_count": 36,
     "metadata": {},
     "output_type": "execute_result"
    }
   ],
   "source": [
    "file_names"
   ]
  },
  {
   "cell_type": "code",
   "execution_count": 37,
   "id": "ce54badb",
   "metadata": {},
   "outputs": [],
   "source": [
    "seqx = raw_documents[0]\n",
    "seqy = raw_documents[8]\n"
   ]
  },
  {
   "cell_type": "code",
   "execution_count": 48,
   "id": "2f5098f5",
   "metadata": {},
   "outputs": [
    {
     "data": {
      "text/plain": [
       "'\\n\\n\\n\\nWhen it was the fifth night, Dunyazad asked her sister to finish the story if she was not too sleepy, AND SHAHRAZAD SAID:\\n\\nI have heard, O fortunate king, that King Yunan accused his vizier of being jealous of Duban and wanting to have him killed. ‘Then after that I would regret it,’ Yunan added, ‘as King Sindbad regretted killing his falcon.’ ‘Excuse me, your majesty,’ said the vizier, ‘but how was that?’ YUNAN WENT ON:\\n\\nYou must know that there was a Persian king with a passion for enjoyment and amusement, who had a fondness for hunting. He had reared a falcon which was his constant companion by night and by day, and which would spend the night perched on his wrist. He would take it hunting with him and he had a golden bowl made for it which he hung round its neck and from which it could drink. One day the chief falconer came to where he was sitting and told him that it was time to go out hunting. The king gave the orders and went off with the falcon on his wrist until he and his party reached a wadi, where they spread out their hunting cordon. Trapped in this was a gazelle and the king threatened that anyone who allowed it to leap over his head would be put to death. When the cordon was narrowed, the gazelle came to where the king was posted, supported itself on its hindlegs and placed its forelegs on its chest as though it was kissing the ground before him. He bent his head towards it and it then jumped over him, making for the open country. He noticed that his men were looking at him and winking at each other and when he asked his vizier what this meant, the man explained: ‘They are pointing out that you said that if anyone let the gazelle jump over his head, he would be killed.’\\n\\nThe king then swore that he would hunt it down and he rode off in pursuit, following the gazelle until he came to a mountain. There it was about to pass through a cleft when the king loosed his falcon at it and the bird clawed at its eyes, blinding and dazing it, so that the king could draw his mace and knock it over with a single blow. He then dismounted and cut its throat, after which he skinned it and tied it to his saddlebow. As this was in the noonday heat and the region was desolate and waterless, both the king and his horse were thirsty by now. The king scouted round and discovered a tree from which what looked like liquid butter was dripping. Wearing a pair of kid gloves, he took the bowl from the falcon’s neck, filled it with this liquid and set it in front of the bird, but it knocked the bowl and overturned it. The king took it and filled it again, thinking that the falcon must be thirsty, but the same thing happened when he put it down a second time. This annoyed him and he went a third time to fill the bowl and take it to his horse, but this time the falcon upset it with its wing. The king cursed it, exclaiming: ‘You unluckiest of birds, you have stopped me drinking, and have stopped yourself and the horse.’ He then struck off its wing with a blow from his sword, but the bird raised its head as though to say by its gesture: ‘Look at the top of the tree.’ The king raised his eyes and what he saw there was a brood of vipers whose poison was dripping down. Immediately regretting what he had done, he mounted his horse and rode back to his pavilion, bringing with him the gazelle, which he handed to the cook, telling him to take it and roast it. As he sat on his chair with the falcon on his wrist, it drew its last breath and died, leaving its master to exclaim with sorrow for having killed it, when it had saved his life. So ends the story of King Sindbad.\\n\\n‘Great king,’ the vizier said, ‘Sindbad acted out of necessity and I can see nothing wrong in that. I myself am acting out of sympathy for you, so that you may realize that I am right, for otherwise you may meet the same fate as the vizier who schemed against the prince.’ ‘How was that?’ the king asked, AND THE VIZIER SAID:\\n\\nYou must know, your majesty, that there was a vizier in the service of a certain king with a son who was passionately fond of hunting. This vizier had been ordered to accompany the prince wherever he went, and so, when he went off to hunt one day, the vizier rode with him. While they were riding they caught sight of a huge beast and the vizier encouraged the prince to pursue it. The prince rode after it until he was out of sight and the beast then vanished into the desert, leaving the prince with no idea of where to go. Just then, ahead of him he saw a weeping girl and when he asked her who she was, she told him: ‘I am the daughter of one of the kings of India and while I was in this desert I became drowsy. Then, before I knew what was happening, I had fallen off my beast and was left alone, not knowing what to do.’\\n\\nWhen the prince heard this, he felt sorry for the girl and took her up behind him on the back of his horse. On his way, he passed a ruined building and the girl said she wanted to relieve herself. He set her down, but she was taking so long that he followed her, only to discover that, although he had not realized it, she was a female ghul and was telling her children: ‘I have brought you a fat young man today.’ ‘Fetch him to us, mother,’ they said, ‘so that we can swallow him down.’ On hearing this, the prince shuddered, fearing for his life and certain that he was going to die. He went back and the ghula came out and, seeing him panic-stricken and shivering, she asked why he was afraid. ‘I have an enemy whom I fear,’ he told her. ‘You call yourself a prince?’ she asked, and when he said yes, she went on: ‘Why don’t you buy him off with money?’ ‘He won’t accept money but wants my life,’ he told her, adding: ‘I am afraid of him and I have been wronged.’ ‘In that case, if what you say is true, then ask help from God,’ she said, ‘for He will protect you against your enemy’s evil and the evil that you fear from him.’ At that the prince lifted his head towards heaven and said: ‘God Who answers the prayers of those in distress when they call on You, and Who clears away evil, may You help me against my enemy and remove him from me, for You have power to do what You wish.’\\n\\nAfter hearing the prince’s prayer, the ghula left him. He went back to his father and when he told him about the vizier’s advice, his father summoned the man and had him killed. As for you, your majesty, if you put your trust in this sage, he will see to it that you die the worst of deaths, and it will be the man whom you have well treated and taken as a friend who will destroy you. Don’t you see that he cured your disease externally through something you held in your hand, so how can you be sure that he won’t kill you by something else you hold?\\n\\n‘What you say is right, vizier, my sound advisor,’ agreed the king, ‘for this man has come as a spy to destroy me and if he could cure me with something I held, it may be that he can kill me with something that I smell.’\\n\\nThen he asked the vizier what was to be done about Duban. The vizier said: ‘Send for him immediately, telling him to come here, and when he does, cut off his head and then you will be safe from any harm he may intend to do you. Betray him before he betrays you.’ The king agreed with the vizier, and sent for Duban, who came gladly, not knowing what God the Merciful had ordained. This was as the poet said:\\n\\nYou who fear your fate, be at your ease;\\n\\nEntrust your affairs to Him Who has stretched out the earth.\\n\\nWhat is decreed by fate will come about,\\n\\nAnd you are safe from what is not decreed.\\n\\n\\n\\nDuban the wise came into the presence of the king and recited:\\n\\nIf I do not show gratitude\\n\\nIn accordance with part, at least, of your deserts,\\n\\nTell me for whom I should compose my poetry and my prose.\\n\\nBefore I asked, you granted me\\n\\nFavours that came with no delay and no excuse.\\n\\nWhy then do I not give you your due of praise,\\n\\nLauding your generosity in secret and in public?\\n\\nI shall record the benefits you heaped on me,\\n\\nLightening my cares, but burdening my back.\\n\\n\\n\\nHe followed this with another poem:\\n\\nTurn aside from cares, entrusting your affairs to fate;\\n\\nRejoice in the good that will come speedily to you,\\n\\nSo that you may forget all that is past.\\n\\nThere is many a troublesome affair\\n\\nWhose aftermath will leave you in content.\\n\\nGod acts according to His will;\\n\\nDo not oppose your God.\\n\\n\\n\\nHe also recited:\\n\\nLeave your affairs to God, the Gentle, the Omniscient,\\n\\nAnd let your heart rest from all worldly care.\\n\\nKnow that things do not go as you wish;\\n\\nThey follow the decree of God, the King.\\n\\n\\n\\nHe then recited:\\n\\nBe of good cheer, relax; forget your cares;\\n\\nCares eat away the resolute man’s heart.\\n\\nPlanning is no help to a slave who has no power.\\n\\nAbandon this and live in happiness.\\n\\n\\n\\nThe king asked him: ‘Do you know why I have sent for you?’ ‘No one knows what is hidden except for God,’ Duban replied. ‘I have sent for you,’ said the king, ‘in order to kill you and take your life.’ This astonished Duban, who said: ‘Why should you kill me, your majesty, and what is my crime?’ ‘I have been told that you are a spy,’ answered the king, ‘and that you have come to murder me. I am going to kill you before you can do the same to me.’ The king then called for the executioner and said: ‘Cut off this traitor’s head, so that we may be freed from his evil-doing.’ ‘Spare me,’ said Duban, ‘and God will spare you; do not kill me, lest He kill you.’\\n\\nHe then repeated what I repeated to you, ‘ifrit, but you would not give up your intention to kill me. Similarly, the king insisted: ‘I shall not be safe unless I put you to death. You cured me with something that I held in my hand, and I cannot be sure that you will not kill me with something that I smell or in some other way.’ Duban said: ‘My reward from you, O king, is the reward of good by evil,’ but the king insisted: ‘You must be killed without delay.’\\n\\nWhen Duban was certain that the king was going to have him killed, he wept in sorrow for the good that he had done to the undeserving, as the poet has said:\\n\\nYou can be sure that Maimuna has no sense,\\n\\nThough this is what her father has.\\n\\nWhoever walks on dry or slippery ground,\\n\\nAnd takes no thought, must fall.\\n\\n\\n\\nThe executioner then came up, blindfolded him and unsheathed his sword, asking the king’s permission to proceed. Duban was weeping and imploring the king: ‘Spare me and God will spare you; do not slay me lest God slay you.’ He recited:\\n\\nI gave my good advice and yet had no success,\\n\\nWhile they succeeded, but through treachery.\\n\\nWhat I advised humiliated me.\\n\\nIf I live, never shall I give advice again;\\n\\nIf not, after my death let all advisors be accursed.\\n\\n\\n\\nThen he said to the king: ‘If this is how you reward me, it is the crocodile’s reward.’ The king asked for the story of the crocodile, but Duban replied: ‘I cannot tell it to you while I am in this state. I conjure you by God to spare me so that God may spare you.’ At that one of the king’s courtiers got up and asked the king for Duban’s life, pointing out: ‘We have not seen that he has done you any wrong, but only that he cured you of a disease that no wise doctor was able to treat.’ The king said: ‘You do not know why I have ordered his death, but this is because, if I spare him, I shall certainly die. A man who cured me of my illness by something that I held in my hand is able to kill me by something that I smell. I am afraid that he has been bribed to murder me, as he is a spy and this is why he has come here. He must be executed, and after that I shall be safe.’\\n\\nDuban repeated his plea for mercy, but on realizing that he could not escape execution, he said to the king: ‘If I must be killed, allow me a delay so that I may return to my house, give instructions to my family and my neighbours about my funeral, settle my debts and give away my books of medicine. I have a very special book which I shall present to you to be kept in your treasury.’ ‘What is in the book?’ asked the king. ‘Innumerable secrets,’ Duban replied, ‘the least of which is that, if you cut off my head and then open three pages and read three lines from the left-hand page, my head will speak to you and answer all your questions.’ The astonished king trembled with joy. ‘When I cut off your head, will you really talk to me?’ he asked. ‘Yes,’ said Duban. ‘This is an amazing thing!’ exclaimed the king, and he sent him off under escort.\\n\\nDuban returned to his house and settled all his affairs, and then the next day he came back to the court, where all the viziers, chamberlains, deputies and officers of state assembled, until the place looked like a garden in flower. He entered and was brought before the king, carrying with him an old book together with a collyrium case containing powder. He sat down and asked for a plate, which was brought. He then poured the powder on it and spread it out, after which he said: ‘King, take this book, but don’t open it until you cut off my head. When you have done that, set the head on the plate and have it pressed into the powder. At that, the flow of blood will halt and you can then open the book.’\\n\\nThe king took the book from him and gave orders for his execution. The executioner cut off his head, which fell on the plate, where it was pressed down into the powder. The blood ceased to flow and Duban the wise opened his eyes and said: ‘O king, open the book.’ The king did this, but he found the pages stuck together, so he put his finger into his mouth, wet it with his spittle, and with difficulty he opened the first, the second and the third pages. He opened six pages in all, but when he looked at them, he could find nothing written there. ‘Wise man,’ he said, ‘there is no writing here.’ ‘Open more pages,’ said Duban. The king opened three more, but soon afterwards he felt the poison with which the book had been impregnated spreading through him. He was wracked by convulsions and cried out that he had been poisoned, while Duban recited:\\n\\nThey wielded power with arrogance,\\n\\nBut soon it was as though their power had never been.\\n\\nIf they had acted justly, they would have met with justice,\\n\\nBut they were tyrants and Time played the tyrant in return,\\n\\nAfflicting them with grievous trials.\\n\\nIt was as though here fate was telling them:\\n\\n‘This is a return for that, and Time cannot be blamed.’\\n\\n\\n\\nAs soon as Duban’s head had finished speaking, the king fell dead. Know then, ‘ifrit, that had he spared Duban, God would have spared him, but as he refused and looked to have him killed, God destroyed him. Had you spared me, God would have spared you…\\n\\n\\n\\n\\n\\nMorning now dawned and Shahrazad broke off from what she had been allowed to say.'"
      ]
     },
     "execution_count": 48,
     "metadata": {},
     "output_type": "execute_result"
    }
   ],
   "source": [
    "seqx"
   ]
  },
  {
   "cell_type": "code",
   "execution_count": 45,
   "id": "25298c72",
   "metadata": {},
   "outputs": [
    {
     "name": "stdout",
     "output_type": "stream",
     "text": [
      "W\n"
     ]
    }
   ],
   "source": [
    "print(seqy)"
   ]
  },
  {
   "cell_type": "markdown",
   "id": "096213bc",
   "metadata": {},
   "source": [
    "# Preprocessing the input before using NW Algorithm"
   ]
  },
  {
   "cell_type": "code",
   "execution_count": 38,
   "id": "5184e8fd",
   "metadata": {},
   "outputs": [],
   "source": [
    "\n",
    "#https://towardsdatascience.com/5-simple-ways-to-tokenize-text-in-python-92c6804edfc4#33a2"
   ]
  },
  {
   "cell_type": "markdown",
   "id": "f1370870",
   "metadata": {},
   "source": [
    "# Preprocessing using NLTK "
   ]
  },
  {
   "cell_type": "code",
   "execution_count": 39,
   "id": "7652da90",
   "metadata": {},
   "outputs": [],
   "source": [
    "import nltk\n",
    "from nltk import word_tokenize\n",
    "from nltk.tag import pos_tag\n",
    "from nltk.tokenize import sent_tokenize\n",
    "from nltk.stem import WordNetLemmatizer\n",
    "import string\n",
    "def Preprocess(text):\n",
    "    global token\n",
    "    #token = list(filter(lambda x : x != '', text.split('\\n\\n')))\n",
    "    token=list(sent_tokenize(text.lower()))\n",
    "    global lemma\n",
    "    lemmatizer = WordNetLemmatizer()\n",
    "    lemma = [\" \".join([lemmatizer.lemmatize(word) for word in word_tokenize(s)])\n",
    "             for s in token]\n",
    "    punc = '''!()-[]{};:'\"\\,<>./?@#$%^&*_~`‘’“”'''            \n",
    "    res = [s.translate(str.maketrans('','',punc)) for s in lemma]\n",
    "        #res = [s.translate(str.maketrans('','',punc)) for s in lemma]\n",
    "    \n",
    "    print(\"-----Successfully Preprocessed-----\")\n",
    "    return res"
   ]
  },
  {
   "cell_type": "code",
   "execution_count": 40,
   "id": "5f63c7eb",
   "metadata": {},
   "outputs": [],
   "source": [
    "#Start and end the same way---> remove punct (keep stopwords)\n",
    "#print(sent[0])"
   ]
  },
  {
   "cell_type": "markdown",
   "id": "39bf8f26",
   "metadata": {},
   "source": [
    "## Check Preprocessing "
   ]
  },
  {
   "cell_type": "code",
   "execution_count": 41,
   "id": "3c62bf7f",
   "metadata": {},
   "outputs": [
    {
     "name": "stdout",
     "output_type": "stream",
     "text": [
      "-----Successfully Preprocessed-----\n",
      "-----Successfully Preprocessed-----\n"
     ]
    }
   ],
   "source": [
    "corpus = Preprocess(seqx)\n",
    "query = Preprocess(seqy)"
   ]
  },
  {
   "cell_type": "code",
   "execution_count": 42,
   "id": "d71c50d1",
   "metadata": {},
   "outputs": [
    {
     "name": "stdout",
     "output_type": "stream",
     "text": [
      "when it wa the fifth night  dunyazad asked her sister to finish the story if she wa not too sleepy  and shahrazad said  i have heard  o fortunate king  that king yunan accused his vizier of being jealous of duban and wanting to have him killed \n",
      "89\n"
     ]
    }
   ],
   "source": [
    "print(corpus[0].lower())\n",
    "length = len(corpus)\n",
    "print(length)\n"
   ]
  },
  {
   "cell_type": "code",
   "execution_count": 43,
   "id": "6eaceed6",
   "metadata": {},
   "outputs": [
    {
     "name": "stdout",
     "output_type": "stream",
     "text": [
      "when it wa the fifth night  her sister said   do you finish for u thy story if thou be not sleepy   and she resumed   it hath reached me  o auspicious king and mighty monarch  that king yunan said to his minister   o wazir  thou art one whom the evil spirit of envy hath possessed because of this physician  and thou plottest for my putting him to death  after which i should repent me full sorely  even a repented king sindibad for killing his falcon  \n",
      "139\n"
     ]
    }
   ],
   "source": [
    "print(query[0])\n",
    "length = len(query)\n",
    "print(length)"
   ]
  },
  {
   "cell_type": "code",
   "execution_count": 613,
   "id": "f292b6b4",
   "metadata": {},
   "outputs": [
    {
     "name": "stdout",
     "output_type": "stream",
     "text": [
      "89\n"
     ]
    }
   ],
   "source": [
    "from minineedle import needle, core\n",
    "dict = {};\n",
    "length = len(corpus)\n",
    "print(length)\n",
    "for i in range(length):    \n",
    "    alignment = needle.NeedlemanWunsch(query[2].lower(), corpus[i].lower())\n",
    "    dict[corpus[i]] = alignment.get_identity()"
   ]
  },
  {
   "cell_type": "code",
   "execution_count": 614,
   "id": "ffebf0c5",
   "metadata": {},
   "outputs": [],
   "source": [
    "#dict"
   ]
  },
  {
   "cell_type": "code",
   "execution_count": 615,
   "id": "d7c4d84d",
   "metadata": {},
   "outputs": [
    {
     "data": {
      "text/plain": [
       "'so end the story of king sindbad '"
      ]
     },
     "execution_count": 615,
     "metadata": {},
     "output_type": "execute_result"
    }
   ],
   "source": [
    "import operator\n",
    "max(dict.items(), key=operator.itemgetter(1))[0]"
   ]
  },
  {
   "cell_type": "markdown",
   "id": "331736a4",
   "metadata": {},
   "source": [
    "# Issue with lemmatization without POS"
   ]
  },
  {
   "cell_type": "markdown",
   "id": "251dfc04",
   "metadata": {},
   "source": [
    "When it was the fifth night, Dunyazad asked her sister to finish the story if she was not too sleepy, AND SHAHRAZAD SAID:I have heard, O fortunate king, that King Yunan accused his vizier of being jealous of Duban and wanting to have him killed."
   ]
  },
  {
   "cell_type": "markdown",
   "id": "fbb0198a",
   "metadata": {},
   "source": [
    "when it wa the fifth night  dunyazad asked her sister to finish the story if she wa not too sleepy  and shahrazad said  i have heard  o fortunate king  that king yunan accused his vizier of being jealous of duban and wanting to have him killed "
   ]
  },
  {
   "cell_type": "markdown",
   "id": "362f9a46",
   "metadata": {},
   "source": [
    "was,asked,said,killed"
   ]
  },
  {
   "cell_type": "markdown",
   "id": "c9142270",
   "metadata": {},
   "source": [
    "# Test NW with Lemmatization+ POS+ Synonyms"
   ]
  },
  {
   "cell_type": "code",
   "execution_count": 21,
   "id": "3e558b44",
   "metadata": {},
   "outputs": [
    {
     "name": "stdout",
     "output_type": "stream",
     "text": [
      "Score 15\n",
      "Identity 58.24\n",
      "Alignment of SEQUENCE 1 and SEQUENCE 2:\n",
      "\t---------h---o--w --m---any students --are ---enrolled at florida international university?\n",
      "\twhat is the total number of students tha-t atten-----d--s florida international university?\n",
      "\n"
     ]
    }
   ],
   "source": [
    "from minineedle import needle, core\n",
    "\n",
    "seq1='How many students are enrolled at Florida International University?'.lower()\n",
    "seq2='What is the total number of students that attends Florida International University?'.lower()\n",
    "\n",
    "alignment = needle.NeedlemanWunsch(seq1, seq2)\n",
    "\n",
    "alignment.align()\n",
    "\n",
    "print('Score',alignment.get_score())\n",
    "\n",
    "print('Identity',alignment.get_identity())\n",
    "\n",
    "print(alignment)"
   ]
  },
  {
   "cell_type": "code",
   "execution_count": null,
   "id": "76c4a64d",
   "metadata": {},
   "outputs": [],
   "source": []
  },
  {
   "cell_type": "code",
   "execution_count": null,
   "id": "1ed8b1df",
   "metadata": {},
   "outputs": [],
   "source": []
  },
  {
   "cell_type": "markdown",
   "id": "4096260b",
   "metadata": {},
   "source": [
    "# Get Synonyms"
   ]
  },
  {
   "cell_type": "code",
   "execution_count": 9,
   "id": "5ba883d0",
   "metadata": {},
   "outputs": [
    {
     "name": "stdout",
     "output_type": "stream",
     "text": [
      "{'secure', 'salutary', 'sound', 'undecomposed', 'respectable', 'trade_good', 'commodity', 'beneficial', 'skilful', 'in_force', 'unspoilt', 'estimable', 'good', 'unspoiled', 'effective', 'soundly', 'well', 'in_effect', 'dependable', 'dear', 'near', 'practiced', 'just', 'honorable', 'safe', 'goodness', 'full', 'right', 'adept', 'honest', 'upright', 'serious', 'skillful', 'thoroughly', 'expert', 'ripe', 'proficient'}\n"
     ]
    }
   ],
   "source": [
    "import nltk\n",
    "from nltk.corpus import wordnet\n",
    "synonyms = []\n",
    "antonyms = []\n",
    "  \n",
    "for syn in wordnet.synsets(\"good\"):\n",
    "    for l in syn.lemmas():\n",
    "        synonyms.append(l.name())\n",
    "        if l.antonyms():\n",
    "            antonyms.append(l.antonyms()[0].name())\n",
    "  \n",
    "print(set(synonyms))"
   ]
  },
  {
   "cell_type": "code",
   "execution_count": null,
   "id": "7b11dfef",
   "metadata": {},
   "outputs": [],
   "source": []
  },
  {
   "cell_type": "code",
   "execution_count": null,
   "id": "b571d6c7",
   "metadata": {},
   "outputs": [],
   "source": []
  },
  {
   "cell_type": "markdown",
   "id": "bcc4e356",
   "metadata": {},
   "source": [
    "# Test for Lemmatization and POS\n",
    "### https://www.machinelearningplus.com/nlp/lemmatization-examples-python/"
   ]
  },
  {
   "cell_type": "code",
   "execution_count": 22,
   "id": "c1654798",
   "metadata": {},
   "outputs": [
    {
     "name": "stdout",
     "output_type": "stream",
     "text": [
      "ask\n",
      "I saw Susie sit in a shoe shine shop . Where Susie sits Susie shine , and where Susie shine Susie sits\n"
     ]
    }
   ],
   "source": [
    "# Lemmatize with POS Tag\n",
    "from nltk.corpus import wordnet\n",
    "import nltk\n",
    "from nltk.stem import WordNetLemmatizer \n",
    "\n",
    "\n",
    "def get_wordnet_pos(word):\n",
    "    \"\"\"Map POS tag to first character lemmatize() accepts\"\"\"\n",
    "    tag = nltk.pos_tag([word])[0][1][0].upper()\n",
    "    tag_dict = {\"J\": wordnet.ADJ,\n",
    "                \"N\": wordnet.NOUN,\n",
    "                \"V\": wordnet.VERB,\n",
    "                \"R\": wordnet.ADV}\n",
    "\n",
    "    return tag_dict.get(tag, wordnet.NOUN)\n",
    "\n",
    "\n",
    "# 1. Init Lemmatizer\n",
    "lemmatizer = WordNetLemmatizer()\n",
    "\n",
    "# 2. Lemmatize Single Word with the appropriate POS tag\n",
    "word = 'asked'\n",
    "print(lemmatizer.lemmatize(word, get_wordnet_pos(word)))\n",
    "\n",
    "# 3. Lemmatize a Sentence with the appropriate POS tag\n",
    "sentence = \"I saw Susie sitting in a shoe shine shop. Where Susie sits Susie shines, and where Susie shines Susie sits\"\n",
    "\n",
    "sentence2 = ' '.join([lemmatizer.lemmatize(w, get_wordnet_pos(w)) for w in nltk.word_tokenize(sentence)]) \n",
    "print(sentence2)\n",
    "#> ['The', 'strip', 'bat', 'be', 'hang', 'on', 'their', 'foot', 'for', 'best']\n"
   ]
  },
  {
   "cell_type": "code",
   "execution_count": 62,
   "id": "2045a2e8",
   "metadata": {},
   "outputs": [],
   "source": [
    "def are_synonyms(x,y):# To check for synonyms between seq1 and seq2 return (True or False) \n",
    "             synonyms2 = []\n",
    "             for syn in wordnet.synsets(y):\n",
    "                 for lm in syn.lemmas():\n",
    "                       synonyms2.append(lm.name())\n",
    "             synonyms=set(synonyms2)\n",
    "             if x in synonyms:\n",
    "                  return True\n",
    "             else:\n",
    "                  return False"
   ]
  },
  {
   "cell_type": "code",
   "execution_count": 67,
   "id": "06635106",
   "metadata": {},
   "outputs": [
    {
     "data": {
      "text/plain": [
       "False"
      ]
     },
     "execution_count": 67,
     "metadata": {},
     "output_type": "execute_result"
    }
   ],
   "source": [
    "are_synonyms('was','was')"
   ]
  },
  {
   "cell_type": "code",
   "execution_count": 105,
   "id": "60d87689",
   "metadata": {},
   "outputs": [
    {
     "name": "stdout",
     "output_type": "stream",
     "text": [
      "respect\n",
      "respect\n"
     ]
    }
   ],
   "source": [
    "# Lemmatize with POS Tag\n",
    "from nltk.corpus import wordnet\n",
    "import nltk\n",
    "from nltk.stem import WordNetLemmatizer \n",
    "\n",
    "\n",
    "def get_wordnet_pos(word):\n",
    "    \"\"\"Map POS tag to first character lemmatize() accepts\"\"\"\n",
    "    tag = nltk.pos_tag([word])[0][1][0].upper()\n",
    "    \n",
    "\n",
    "    tag_dict = {\"J\": wordnet.ADJ,\n",
    "                \"N\": wordnet.NOUN,\n",
    "                \"V\": wordnet.VERB,\n",
    "                \"R\": wordnet.ADV}\n",
    "    return tag_dict.get(tag, wordnet.NOUN)\n",
    "\n",
    "\n",
    "\n",
    "# 1. Init Lemmatizer\n",
    "lemmatizer = WordNetLemmatizer()\n",
    "\n",
    "# 2. Lemmatize Single Word with the appropriate POS tag\n",
    "\n",
    "\n",
    "x = lemmatizer.lemmatize(word, get_wordnet_pos(word))\n",
    "y = lemmatizer.lemmatize(word, get_wordnet_pos(word))\n",
    "print(x)\n",
    "print(y)"
   ]
  },
  {
   "cell_type": "code",
   "execution_count": 8,
   "id": "ad6cb555",
   "metadata": {},
   "outputs": [],
   "source": [
    "from nltk.corpus import wordnet\n",
    "import nltk\n",
    "from nltk.stem import WordNetLemmatizer \n",
    "\n",
    "def get_wordnet_pos(word):\n",
    "        \"\"\"Map POS tag to first character lemmatize() accepts\"\"\"\n",
    "        tag = nltk.pos_tag([word])[0][1][0].upper()\n",
    "    \n",
    "\n",
    "        tag_dict = {\"J\": wordnet.ADJ,\n",
    "                \"N\": wordnet.NOUN,\n",
    "                \"V\": wordnet.VERB,\n",
    "                \"R\": wordnet.ADV}\n",
    "        return tag_dict.get(tag, wordnet.NOUN)\n",
    "    \n",
    "def checklemma_pos(word1,word2):\n",
    "\n",
    "# 1. Init Lemmatizer\n",
    "    lemmatizer = WordNetLemmatizer()\n",
    "    \n",
    "    \n",
    "    x = lemmatizer.lemmatize(word1, get_wordnet_pos(word1))\n",
    "    y = lemmatizer.lemmatize(word2, get_wordnet_pos(word2))\n",
    "    if x == y:\n",
    "        return True\n",
    "    else:\n",
    "        return False"
   ]
  },
  {
   "cell_type": "code",
   "execution_count": 11,
   "id": "49e2d29b",
   "metadata": {},
   "outputs": [
    {
     "data": {
      "text/plain": [
       "False"
      ]
     },
     "execution_count": 11,
     "metadata": {},
     "output_type": "execute_result"
    }
   ],
   "source": [
    "checklemma_pos('dead','die')"
   ]
  },
  {
   "cell_type": "code",
   "execution_count": 28,
   "id": "aa5d0866",
   "metadata": {},
   "outputs": [
    {
     "name": "stdout",
     "output_type": "stream",
     "text": [
      "where\n",
      "['I', 'saw', 'Susie', 'sit', 'in', 'a', 'shoe', 'shine', 'shop', '.', 'Where', 'Susie', 'sits', 'Susie', 'shine', ',', 'and', 'where', 'Susie', 'shine', 'Susie', 'sits']\n"
     ]
    }
   ],
   "source": [
    "# Lemmatize with POS Tag\n",
    "from nltk.corpus import wordnet\n",
    "\n",
    "def get_wordnet_pos(word):\n",
    "    \"\"\"Map POS tag to first character lemmatize() accepts\"\"\"\n",
    "    tag = nltk.pos_tag([word])[0][1][0].upper()\n",
    "    tag_dict = {\"J\": wordnet.ADJ,\n",
    "                \"N\": wordnet.NOUN,\n",
    "                \"V\": wordnet.VERB,\n",
    "                \"R\": wordnet.ADV}\n",
    "\n",
    "    return tag_dict.get(tag, wordnet.NOUN)\n",
    "\n",
    "\n",
    "# 1. Init Lemmatizer\n",
    "lemmatizer = WordNetLemmatizer()\n",
    "\n",
    "# 2. Lemmatize Single Word with the appropriate POS tag\n",
    "word = 'where'\n",
    "print(lemmatizer.lemmatize(word, get_wordnet_pos(word)))\n",
    "\n",
    "# 3. Lemmatize a Sentence with the appropriate POS tag\n",
    "sentence = \"I saw Susie sitting in a shoe shine shop. Where Susie sits Susie shines, and where Susie shines Susie sits\"\n",
    "print([lemmatizer.lemmatize(w, get_wordnet_pos(w)) for w in nltk.word_tokenize(sentence)])\n",
    "#> ['The', 'strip', 'bat', 'be', 'hang', 'on', 'their', 'foot', 'for', 'best']"
   ]
  },
  {
   "cell_type": "code",
   "execution_count": null,
   "id": "a9f323a2",
   "metadata": {},
   "outputs": [],
   "source": []
  }
 ],
 "metadata": {
  "kernelspec": {
   "display_name": "Python 3 (ipykernel)",
   "language": "python",
   "name": "python3"
  },
  "language_info": {
   "codemirror_mode": {
    "name": "ipython",
    "version": 3
   },
   "file_extension": ".py",
   "mimetype": "text/x-python",
   "name": "python",
   "nbconvert_exporter": "python",
   "pygments_lexer": "ipython3",
   "version": "3.9.7"
  }
 },
 "nbformat": 4,
 "nbformat_minor": 5
}
